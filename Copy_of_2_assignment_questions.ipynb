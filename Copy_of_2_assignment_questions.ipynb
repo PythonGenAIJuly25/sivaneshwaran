{
  "cells": [
    {
      "cell_type": "markdown",
      "source": [
        "# Module 2: Control Flow Assignments\n",
        "## Lesson 2.1: Conditional Statements"
      ],
      "metadata": {
        "id": "t_EDGnqdYJSX"
      },
      "id": "t_EDGnqdYJSX"
    },
    {
      "cell_type": "markdown",
      "source": [
        "### Assignment 1: Simple if Statement\n",
        "\n",
        "Write a program that asks the user to input a number and prints whether the number is positive."
      ],
      "metadata": {
        "id": "nc4uyzeOX_Ua"
      },
      "id": "nc4uyzeOX_Ua"
    },
    {
      "cell_type": "code",
      "source": [
        "# your code here"
      ],
      "metadata": {
        "id": "1f71SE04YAzG"
      },
      "id": "1f71SE04YAzG",
      "execution_count": null,
      "outputs": []
    },
    {
      "cell_type": "code",
      "source": [
        "num=int(input(\"num:\"))\n",
        "if num>0:\n",
        "    print(\"positive\")\n",
        "else :\n",
        "    print(\"negative\")"
      ],
      "metadata": {
        "id": "MjMHdyjUYOtS",
        "colab": {
          "base_uri": "https://localhost:8080/"
        },
        "outputId": "0ac25c90-0e09-4a4b-95b8-abe1b9980dee"
      },
      "id": "MjMHdyjUYOtS",
      "execution_count": 2,
      "outputs": [
        {
          "output_type": "stream",
          "name": "stdout",
          "text": [
            "num:34\n",
            "positive\n"
          ]
        }
      ]
    },
    {
      "cell_type": "markdown",
      "source": [
        "### Assignment 2: if-else Statement\n",
        "\n",
        "Write a program that asks the user to input a number and prints whether the number is positive or negative."
      ],
      "metadata": {
        "id": "6MIuZhEAYNTS"
      },
      "id": "6MIuZhEAYNTS"
    },
    {
      "cell_type": "code",
      "source": [
        "# your code here"
      ],
      "metadata": {
        "id": "mu870IIRYRSu"
      },
      "id": "mu870IIRYRSu",
      "execution_count": null,
      "outputs": []
    },
    {
      "cell_type": "code",
      "source": [
        "num=int(input(\"num:\"))\n",
        "if num>0:\n",
        "    print(\"positive\")\n",
        "elif num<0 :\n",
        "    print(\"negative\")"
      ],
      "metadata": {
        "id": "M9k1slWvagEU"
      },
      "id": "M9k1slWvagEU",
      "execution_count": null,
      "outputs": []
    },
    {
      "cell_type": "code",
      "execution_count": null,
      "metadata": {
        "id": "vAUUndrFXiq8"
      },
      "outputs": [],
      "source": [
        "num=int(input(\"num:\"))\n",
        "if num>0:\n",
        "    print(\"positive\")\n",
        "elif num<0 :\n",
        "    print(\"negative\")\n",
        "else:\n",
        "    print(\"zero\")"
      ],
      "id": "vAUUndrFXiq8"
    },
    {
      "cell_type": "code",
      "source": [
        "num=int(input(\"num:\"))\n",
        "if num>0:\n",
        "    print(\"positive\")\n",
        "    if num%2==0:\n",
        "        print(\"its even\")\n",
        "    else:\n",
        "        print(\"odd\")\n",
        "elif num<0 :\n",
        "    print(\"negative\")\n",
        "else:\n",
        "    print(\"zero\")"
      ],
      "metadata": {
        "colab": {
          "base_uri": "https://localhost:8080/"
        },
        "id": "v9P6D4TVbIy7",
        "outputId": "ca24104a-9102-4740-b572-80e07b3fd9e8"
      },
      "id": "v9P6D4TVbIy7",
      "execution_count": 4,
      "outputs": [
        {
          "output_type": "stream",
          "name": "stdout",
          "text": [
            "num:3\n",
            "positive\n",
            "odd\n"
          ]
        }
      ]
    },
    {
      "cell_type": "markdown",
      "metadata": {
        "id": "ACxk4D0TXiq4"
      },
      "source": [
        "\n",
        "\n",
        "\n",
        "### Assignment 3: if-elif-else Statement\n",
        "\n",
        "Write a program that asks the user to input a number and prints whether the number is positive, negative, or zero.\n",
        "\n",
        "### Assignment 4: Nested if Statement\n",
        "\n",
        "Write a program that asks the user to input a number and prints whether the number is positive and even, positive and odd, or negative.\n",
        "\n",
        "## Lesson 2.2: Loops\n",
        "### Assignment 5: for Loop\n",
        "\n",
        "Write a program that prints all the numbers from 1 to 10 using a for loop.\n",
        "\n",
        "### Assignment 6: while Loop\n",
        "\n",
        "Write a program that prints all the numbers from 1 to 10 using a while loop.\n",
        "\n",
        "### Assignment 7: Nested Loops\n",
        "\n",
        "Write a program that prints a 5x5 grid of asterisks (*) using nested loops.\n",
        "\n",
        "### Assignment 8: break Statement\n",
        "\n",
        "Write a program that asks the user to input numbers until they input 0. The program should print the sum of all the input numbers.\n",
        "\n",
        "### Assignment 9: continue Statement\n",
        "\n",
        "Write a program that prints all the numbers from 1 to 10 except 5 using a for loop and continue statement.\n",
        "\n",
        "### Assignment 10: pass Statement\n",
        "\n",
        "Write a program that defines an empty function using the pass statement.\n",
        "\n",
        "### Assignment 11: Combining Loops and Conditionals\n",
        "\n",
        "Write a program that asks the user to input a number and prints all the even numbers from 1 to that number using a for loop.\n",
        "\n",
        "### Assignment 12: Factorial Calculation\n",
        "\n",
        "Write a program that calculates the factorial of a number input by the user using a while loop.\n",
        "\n",
        "### Assignment 13: Sum of Digits\n",
        "\n",
        "Write a program that calculates the sum of the digits of a number input by the user using a while loop.\n",
        "\n",
        "### Assignment 14: Prime Number Check\n",
        "\n",
        "Write a program that checks if a number input by the user is a prime number using a for loop.\n",
        "\n",
        "### Assignment 15: Fibonacci Sequence\n",
        "\n",
        "Write a program that prints the first n Fibonacci numbers, where n is input by the user."
      ],
      "id": "ACxk4D0TXiq4"
    },
    {
      "cell_type": "code",
      "source": [
        "for i in range(1,11):\n",
        "    print(i)"
      ],
      "metadata": {
        "colab": {
          "base_uri": "https://localhost:8080/"
        },
        "id": "vOLsmuzTas8j",
        "outputId": "1aecb143-057a-45b9-9994-6553c83d2e4a"
      },
      "id": "vOLsmuzTas8j",
      "execution_count": 6,
      "outputs": [
        {
          "output_type": "stream",
          "name": "stdout",
          "text": [
            "1\n",
            "2\n",
            "3\n",
            "4\n",
            "5\n",
            "6\n",
            "7\n",
            "8\n",
            "9\n",
            "10\n"
          ]
        }
      ]
    },
    {
      "cell_type": "code",
      "source": [
        "n=1\n",
        "while n<11:\n",
        "    print(n)\n",
        "    n+=1"
      ],
      "metadata": {
        "colab": {
          "base_uri": "https://localhost:8080/"
        },
        "id": "OZPwlHafbpfD",
        "outputId": "a55fcaff-bb83-45e3-d363-1ea546c09eb5"
      },
      "id": "OZPwlHafbpfD",
      "execution_count": 8,
      "outputs": [
        {
          "output_type": "stream",
          "name": "stdout",
          "text": [
            "1\n",
            "2\n",
            "3\n",
            "4\n",
            "5\n",
            "6\n",
            "7\n",
            "8\n",
            "9\n",
            "10\n"
          ]
        }
      ]
    },
    {
      "cell_type": "code",
      "source": [
        "for i in range(5):\n",
        "    for j in range(5):\n",
        "        print(\"*\",end=\" \")\n",
        "    print(\" \")"
      ],
      "metadata": {
        "colab": {
          "base_uri": "https://localhost:8080/"
        },
        "id": "zz10XGpObpVw",
        "outputId": "9fdcfdb2-c205-4b06-aa30-39ac4b7efe30"
      },
      "id": "zz10XGpObpVw",
      "execution_count": 11,
      "outputs": [
        {
          "output_type": "stream",
          "name": "stdout",
          "text": [
            "* * * * *  \n",
            "* * * * *  \n",
            "* * * * *  \n",
            "* * * * *  \n",
            "* * * * *  \n"
          ]
        }
      ]
    },
    {
      "cell_type": "code",
      "source": [
        "#sum of digit\n",
        "num=int(input(\"enter:\"))\n",
        "digit=0\n",
        "while num>0:\n",
        "    val=num%10\n",
        "    digit=digit+val\n",
        "    num=num//10\n",
        "print(digit)"
      ],
      "metadata": {
        "colab": {
          "base_uri": "https://localhost:8080/"
        },
        "id": "BcITndtsbpPO",
        "outputId": "a4927ec4-c216-4e74-9245-e11e06935268"
      },
      "id": "BcITndtsbpPO",
      "execution_count": 14,
      "outputs": [
        {
          "output_type": "stream",
          "name": "stdout",
          "text": [
            "enter:552\n",
            "12\n"
          ]
        }
      ]
    },
    {
      "cell_type": "code",
      "source": [
        "num = int(input(\"Enter a number: \"))\n",
        "factorial = 1\n",
        "i = 1\n",
        "\n",
        "\n",
        "while i <= num:\n",
        "    factorial *= i\n",
        "    i += 1\n",
        "print(\"Factorial of\", num, \"is\", factorial)"
      ],
      "metadata": {
        "colab": {
          "base_uri": "https://localhost:8080/"
        },
        "id": "hUhCIVhkbpIr",
        "outputId": "dde8a5f3-fd7e-464a-8819-dcecf2722bb1"
      },
      "id": "hUhCIVhkbpIr",
      "execution_count": 15,
      "outputs": [
        {
          "output_type": "stream",
          "name": "stdout",
          "text": [
            "Enter a number: 55\n",
            "Factorial of 55 is 12696403353658275925965100847566516959580321051449436762275840000000000000\n"
          ]
        }
      ]
    },
    {
      "cell_type": "code",
      "source": [
        "num = int(input(\"Enter a number: \"))\n",
        "\n",
        "if num <= 1:\n",
        "    print(\"Not a prime number\")\n",
        "else:\n",
        "    is_prime = True\n",
        "    for i in range(2, int(num) + 1):\n",
        "        if num % i == 0:\n",
        "            is_prime = False\n",
        "            break\n",
        "    if is_prime:\n",
        "        print(num, \"is a prime number\")\n",
        "    else:\n",
        "        print(num, \"is not a prime number\")"
      ],
      "metadata": {
        "colab": {
          "base_uri": "https://localhost:8080/"
        },
        "id": "y8yEvLxVbpCF",
        "outputId": "81c2a434-a49a-4b95-9fbb-4186db4e1b7d"
      },
      "id": "y8yEvLxVbpCF",
      "execution_count": 16,
      "outputs": [
        {
          "output_type": "stream",
          "name": "stdout",
          "text": [
            "Enter a number: 33\n",
            "33 is not a prime number\n"
          ]
        }
      ]
    },
    {
      "cell_type": "code",
      "source": [
        "n = int(input(\"Enter the number: \"))\n",
        "\n",
        "a, b = 0, 1\n",
        "for i in range(n):\n",
        "    print(a, end=\" \")\n",
        "    a, b = b, a + b"
      ],
      "metadata": {
        "colab": {
          "base_uri": "https://localhost:8080/"
        },
        "id": "q5YQDwG3bo6m",
        "outputId": "5d3b70fc-e24a-474b-b43b-ffc2c3c95677"
      },
      "id": "q5YQDwG3bo6m",
      "execution_count": 17,
      "outputs": [
        {
          "output_type": "stream",
          "name": "stdout",
          "text": [
            "Enter the number: 55\n",
            "0 1 1 2 3 5 8 13 21 34 55 89 144 233 377 610 987 1597 2584 4181 6765 10946 17711 28657 46368 75025 121393 196418 317811 514229 832040 1346269 2178309 3524578 5702887 9227465 14930352 24157817 39088169 63245986 102334155 165580141 267914296 433494437 701408733 1134903170 1836311903 2971215073 4807526976 7778742049 12586269025 20365011074 32951280099 53316291173 86267571272 "
          ]
        }
      ]
    }
  ],
  "metadata": {
    "kernelspec": {
      "display_name": "Python 3",
      "language": "python",
      "name": "python3"
    },
    "language_info": {
      "codemirror_mode": {
        "name": "ipython",
        "version": 3
      },
      "file_extension": ".py",
      "mimetype": "text/x-python",
      "name": "python",
      "nbconvert_exporter": "python",
      "pygments_lexer": "ipython3",
      "version": "3.9.7"
    },
    "colab": {
      "provenance": []
    }
  },
  "nbformat": 4,
  "nbformat_minor": 5
}