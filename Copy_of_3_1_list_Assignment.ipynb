{
  "cells": [
    {
      "cell_type": "markdown",
      "metadata": {
        "id": "YfVsE6rfaDab"
      },
      "source": [
        "# Module 3: Data Structures Assignments\n",
        "## Lesson 3.1: Lists\n",
        "### Assignment 1: Creating and Accessing Lists\n",
        "\n",
        "Create a list of the first 20 positive integers. Print the list.\n",
        "\n",
        "### Assignment 2: Accessing List Elements\n",
        "\n",
        "Print the first, middle, and last elements of the list created in Assignment 1.\n",
        "\n",
        "### Assignment 3: List Slicing\n",
        "\n",
        "Print the first five elements, the last five elements, and the elements from index 5 to 15 of the list created in Assignment 1.\n",
        "\n",
        "### Assignment 4: List Comprehensions\n",
        "\n",
        "Create a new list containing the squares of the first 10 positive integers using a list comprehension. Print the new list.\n",
        "\n",
        "### Assignment 5: Filtering Lists\n",
        "\n",
        "Create a new list containing only the even numbers from the list created in Assignment 1 using a list comprehension. Print the new list.\n",
        "\n",
        "### Assignment 6: List Methods\n",
        "\n",
        "Create a list of random numbers and sort it in ascending and descending order. Remove the duplicates from the list and print the modified list.\n",
        "\n",
        "### Assignment 7: Nested Lists\n",
        "\n",
        "Create a nested list representing a 3x3 matrix and print the matrix. Access and print the element at the second row and third column.\n",
        "\n",
        "### Assignment 8: List of Dictionaries\n",
        "\n",
        "Create a list of dictionaries where each dictionary represents a student with keys 'name' and 'score'. Sort the list of dictionaries by the 'score' in descending order and print the sorted list.\n",
        "\n",
        "### Assignment 9: Matrix Transposition\n",
        "\n",
        "Write a function that takes a 3x3 matrix (nested list) as input and returns its transpose. Print the original and transposed matrices.\n",
        "\n",
        "### Assignment 10: Flattening a Nested List\n",
        "\n",
        "Write a function that takes a nested list and flattens it into a single list. Print the original and flattened lists.\n",
        "\n",
        "### Assignment 11: List Manipulation\n",
        "\n",
        "Create a list of the first 10 positive integers. Remove the elements at indices 2, 4, and 6, and insert the element '99' at index 5. Print the modified list.\n",
        "\n",
        "### Assignment 12: List Zipping\n",
        "\n",
        "Create two lists of the same length. Use the `zip` function to combine these lists into a list of tuples and print the result.\n",
        "\n",
        "### Assignment 13: List Reversal\n",
        "\n",
        "Write a function that takes a list and returns a new list with the elements in reverse order. Print the original and reversed lists.\n",
        "\n",
        "### Assignment 14: List Rotation\n",
        "\n",
        "Write a function that rotates a list by n positions. Print the original and rotated lists.\n",
        "\n",
        "### Assignment 15: List Intersection\n",
        "\n",
        "Write a function that takes two lists and returns a new list containing only the elements that are present in both lists. Print the intersected list."
      ],
      "id": "YfVsE6rfaDab"
    },
    {
      "cell_type": "markdown",
      "source": [],
      "metadata": {
        "id": "WPAfVC4GOTVu"
      },
      "id": "WPAfVC4GOTVu"
    },
    {
      "cell_type": "markdown",
      "source": [
        "ssignment 1: Creating and Accessing Lists\n",
        "Create a list of the first 20 positive integers. Print the list.\n",
        "\n",
        "Assignment 2: Accessing List Elements\n",
        "Print the first, middle, and last elements of the list created in Assignment 1.\n",
        "\n",
        "Assignment 3: List Slicing\n",
        "Print the first five elements, the last five elements, and the elements from index 5 to 15 of the list created in Assignment 1."
      ],
      "metadata": {
        "id": "srNuDhP7OwJ6"
      },
      "id": "srNuDhP7OwJ6"
    },
    {
      "cell_type": "code",
      "source": [
        "lis=[i for i in range(1,21)]\n",
        "print(lis)\n",
        "val=[]\n",
        "val.append(lis.pop(0))\n",
        "val.append(lis.pop(len(lis)//2))\n",
        "val.append(lis.pop(len(lis)-1))\n",
        "\n",
        "print(val)"
      ],
      "metadata": {
        "colab": {
          "base_uri": "https://localhost:8080/"
        },
        "id": "tunj4Pe_OY-U",
        "outputId": "e271f3aa-06ed-405c-f392-f2a94a88bf1e"
      },
      "id": "tunj4Pe_OY-U",
      "execution_count": null,
      "outputs": [
        {
          "output_type": "stream",
          "name": "stdout",
          "text": [
            "[1, 2, 3, 4, 5, 6, 7, 8, 9, 10, 11, 12, 13, 14, 15, 16, 17, 18, 19, 20]\n",
            "[1, 11, 20]\n"
          ]
        }
      ]
    },
    {
      "cell_type": "code",
      "source": [
        "lis=[i for i in range(1,21)]\n",
        "print(lis[:5])\n",
        "print(lis[-5:])\n",
        "print(lis[5:15])"
      ],
      "metadata": {
        "colab": {
          "base_uri": "https://localhost:8080/"
        },
        "id": "MuJyH07-O_uy",
        "outputId": "4009bf04-33cf-4bfd-f65a-4260884bee24"
      },
      "id": "MuJyH07-O_uy",
      "execution_count": null,
      "outputs": [
        {
          "output_type": "stream",
          "name": "stdout",
          "text": [
            "[1, 2, 3, 4, 5]\n",
            "[16, 17, 18, 19, 20]\n",
            "[6, 7, 8, 9, 10, 11, 12, 13, 14, 15]\n"
          ]
        }
      ]
    },
    {
      "cell_type": "code",
      "execution_count": null,
      "metadata": {
        "id": "JObnS3MHaDad",
        "colab": {
          "base_uri": "https://localhost:8080/"
        },
        "outputId": "7db6056f-cd76-4b5c-805e-0d6b1d1014a2"
      },
      "outputs": [
        {
          "output_type": "execute_result",
          "data": {
            "text/plain": [
              "[1, 2, 3, 4, 5, 6, 7, 8, 9, 10]"
            ]
          },
          "metadata": {},
          "execution_count": 3
        }
      ],
      "source": [
        "#Assignment 4: List Comprehensions\n",
        "new = [i for i in range(1,11)]\n",
        "new"
      ],
      "id": "JObnS3MHaDad"
    },
    {
      "cell_type": "code",
      "source": [
        "#Assignment 5: Filtering Lists\n",
        "#Create a new list containing only the even numbers from the list created in Assignment 1 using a list comprehension. Print the new list.\n",
        "even=[ i for i in range(1,11)if i%2==0]\n",
        "even"
      ],
      "metadata": {
        "colab": {
          "base_uri": "https://localhost:8080/"
        },
        "id": "6Lqe7VEkfFoe",
        "outputId": "cf08a160-642a-4f43-b9db-bc276ce28180"
      },
      "id": "6Lqe7VEkfFoe",
      "execution_count": null,
      "outputs": [
        {
          "output_type": "execute_result",
          "data": {
            "text/plain": [
              "[2, 4, 6, 8, 10]"
            ]
          },
          "metadata": {},
          "execution_count": 4
        }
      ]
    },
    {
      "cell_type": "code",
      "source": [
        "#Assignment 6: List Methods\n",
        "#Create a list of random numbers and sort it in ascending and descending order. Remove the duplicates from the list and print the modified list.\n",
        "l1=[2,3,5,1,7,3]\n",
        "new=list[set(l1)]\n",
        "new\n",
        "l1.sort()\n",
        "l1"
      ],
      "metadata": {
        "colab": {
          "base_uri": "https://localhost:8080/"
        },
        "id": "vcvauTAUfYYO",
        "outputId": "5091c19c-e18f-4a07-95ec-a67eee90d74c"
      },
      "id": "vcvauTAUfYYO",
      "execution_count": null,
      "outputs": [
        {
          "output_type": "execute_result",
          "data": {
            "text/plain": [
              "[1, 2, 3, 3, 5, 7]"
            ]
          },
          "metadata": {},
          "execution_count": 11
        }
      ]
    },
    {
      "cell_type": "code",
      "source": [
        "#Assignment 7: Nested Lists\n",
        "#Create a nested list representing a 3x3 matrix and print the matrix. Access and print the element at the second row and third column\n",
        "lis=[[1,2,3],[4,5,6],[6,7,8]]\n",
        "lis\n",
        "lis[1][2]"
      ],
      "metadata": {
        "colab": {
          "base_uri": "https://localhost:8080/"
        },
        "id": "md15XWIHgMM7",
        "outputId": "5c4ff59e-f6ba-4ea9-9f78-53c54d678dfc"
      },
      "id": "md15XWIHgMM7",
      "execution_count": null,
      "outputs": [
        {
          "output_type": "execute_result",
          "data": {
            "text/plain": [
              "6"
            ]
          },
          "metadata": {},
          "execution_count": 14
        }
      ]
    },
    {
      "cell_type": "code",
      "source": [
        "#Assignment 8: List of Dictionaries\n",
        "#Create a list of dictionaries where each dictionary represents a student with keys 'name' and 'score'. Sort the list of dictionaries by the 'score' in descending order and print the sorted list.\n",
        "\n",
        "students=[{\"name\":\"velu\",\"score\":44},{\"name\":\"balu\",\"score\":99}]\n",
        "sorted_students = sorted(students, key=lambda x: x['score'], reverse=True)\n",
        "\n",
        "for student in sorted_students:\n",
        "    print(f\"Name: {student['name']}, Score: {student['score']}\")\n"
      ],
      "metadata": {
        "colab": {
          "base_uri": "https://localhost:8080/"
        },
        "id": "cZfTlJik6lO9",
        "outputId": "c6cd33c7-9fe0-4472-9366-30734c940a52"
      },
      "id": "cZfTlJik6lO9",
      "execution_count": null,
      "outputs": [
        {
          "output_type": "stream",
          "name": "stdout",
          "text": [
            "Name: balu, Score: 99\n",
            "Name: velu, Score: 44\n"
          ]
        }
      ]
    },
    {
      "cell_type": "code",
      "source": [
        "#Assignment 9: Matrix Transposition\n",
        "#Write a function that takes a 3x3 matrix (nested list) as input and returns its transpose. Print the original and transposed matrices.\n",
        "\n",
        "mat=[[1,2,3],[4,5,6],[7,8,9]]\n",
        "\n",
        "def trans(val):\n",
        "    trans=[]\n",
        "\n",
        "    for i in range(len(val[0])):\n",
        "        row = []\n",
        "        for j in range(len(val)):\n",
        "            row.append(val[j][i])\n",
        "        trans.append(row)\n",
        "    return trans\n",
        "\n",
        "print(trans(mat))\n",
        "\n"
      ],
      "metadata": {
        "colab": {
          "base_uri": "https://localhost:8080/"
        },
        "id": "5d39zQvO7j1c",
        "outputId": "1748b465-0ff0-48ca-9c2b-1c6725916419"
      },
      "id": "5d39zQvO7j1c",
      "execution_count": null,
      "outputs": [
        {
          "output_type": "stream",
          "name": "stdout",
          "text": [
            "[[1, 4, 7], [2, 5, 8], [3, 6, 9]]\n"
          ]
        }
      ]
    },
    {
      "cell_type": "code",
      "source": [
        "#Assignment 10: Flattening a Nested List\n",
        "#Write a function that takes a nested list and flattens it into a single list. Print the original and flattened lists.\n",
        "matrix=[\n",
        "        [1,2,3],\n",
        "        [4,5,6],\n",
        "        [7,8,9]\n",
        "       ]\n",
        "def flat(val):\n",
        "    fl=[]\n",
        "    for i in range(len(val)):\n",
        "        for j in range(len(val[0])):\n",
        "            fl.append(val[i][j])\n",
        "    return fl\n",
        "\n",
        "print(flat(matrix))\n"
      ],
      "metadata": {
        "colab": {
          "base_uri": "https://localhost:8080/"
        },
        "id": "Iyupqet8AZ3w",
        "outputId": "cbb8f8b6-8bcc-4318-8808-7b05bbf94d4e"
      },
      "id": "Iyupqet8AZ3w",
      "execution_count": null,
      "outputs": [
        {
          "output_type": "stream",
          "name": "stdout",
          "text": [
            "[1, 2, 3, 4, 5, 6, 7, 8, 9]\n"
          ]
        }
      ]
    },
    {
      "cell_type": "markdown",
      "source": [
        "Assignment 11: List Manipulation\n",
        "Create a list of the first 10 positive integers. Remove the elements at indices 2, 4, and 6, and insert the element '99' at index 5. Print the modified list."
      ],
      "metadata": {
        "id": "VzzxnP2lHfug"
      },
      "id": "VzzxnP2lHfug"
    },
    {
      "cell_type": "code",
      "source": [
        "l1=[i for i in range(1,11)]\n",
        "print(l1)\n",
        "l1.pop(6)\n",
        "l1.pop(4)\n",
        "l1.pop(2)\n",
        "l1.insert(5,99)\n",
        "\n",
        "\n",
        "l1\n"
      ],
      "metadata": {
        "colab": {
          "base_uri": "https://localhost:8080/"
        },
        "id": "cTu3XRm7HZZF",
        "outputId": "46cde67d-fc0a-44f9-e4b4-189b1b7d8ebd"
      },
      "id": "cTu3XRm7HZZF",
      "execution_count": null,
      "outputs": [
        {
          "output_type": "stream",
          "name": "stdout",
          "text": [
            "[1, 2, 3, 4, 5, 6, 7, 8, 9, 10]\n"
          ]
        },
        {
          "output_type": "execute_result",
          "data": {
            "text/plain": [
              "[1, 2, 4, 6, 8, 99, 9, 10]"
            ]
          },
          "metadata": {},
          "execution_count": 29
        }
      ]
    },
    {
      "cell_type": "markdown",
      "source": [
        "Assignment 12: List Zipping\n",
        "Create two lists of the same length. Use the zip function to combine these lists into a list of tuples and print the result."
      ],
      "metadata": {
        "id": "dGrRPMXjJoG2"
      },
      "id": "dGrRPMXjJoG2"
    },
    {
      "cell_type": "markdown",
      "source": [],
      "metadata": {
        "id": "Yy11Q4LaJn18"
      },
      "id": "Yy11Q4LaJn18"
    },
    {
      "cell_type": "code",
      "source": [
        "l1=[1,2,4,5]\n",
        "l2=[5,7,8,99]\n",
        "new=tuple(zip(l1,l2))\n",
        "print(new)\n",
        "\n"
      ],
      "metadata": {
        "colab": {
          "base_uri": "https://localhost:8080/"
        },
        "id": "-DkYIjrmHqLv",
        "outputId": "72fe942e-0fdd-4d6a-cc93-edfd80aec573"
      },
      "id": "-DkYIjrmHqLv",
      "execution_count": null,
      "outputs": [
        {
          "output_type": "stream",
          "name": "stdout",
          "text": [
            "((1, 5), (2, 7), (4, 8), (5, 99))\n"
          ]
        }
      ]
    },
    {
      "cell_type": "markdown",
      "source": [
        "Assignment 13: List Reversal\n",
        "Write a function that takes a list and returns a new list with the elements in reverse order. Print the original and reversed lists."
      ],
      "metadata": {
        "id": "EB2y3bDTKVGX"
      },
      "id": "EB2y3bDTKVGX"
    },
    {
      "cell_type": "code",
      "source": [
        "lis=[\"s\",\"i\",\"v\",\"a\",\"n\"]\n",
        "lis.reverse()\n",
        "lis"
      ],
      "metadata": {
        "colab": {
          "base_uri": "https://localhost:8080/"
        },
        "id": "JUIFBpILJ2Fi",
        "outputId": "285cdbc4-804f-416b-ae06-bf33084052cb"
      },
      "id": "JUIFBpILJ2Fi",
      "execution_count": null,
      "outputs": [
        {
          "output_type": "execute_result",
          "data": {
            "text/plain": [
              "['n', 'a', 'v', 'i', 's']"
            ]
          },
          "metadata": {},
          "execution_count": 37
        }
      ]
    },
    {
      "cell_type": "markdown",
      "source": [
        "Assignment 14: List Rotation\n",
        "Write a function that rotates a list by n positions. Print the original and rotated lists.\n"
      ],
      "metadata": {
        "id": "L2nDiRugKySS"
      },
      "id": "L2nDiRugKySS"
    },
    {
      "cell_type": "markdown",
      "source": [],
      "metadata": {
        "id": "MbMU_KFIKUgK"
      },
      "id": "MbMU_KFIKUgK"
    },
    {
      "cell_type": "code",
      "source": [
        "lis=[4,5,6,7,8]\n",
        "n=3\n",
        "def rotate(val, num):\n",
        "    new=[]\n",
        "\n",
        "    for i in range(len(val)):\n",
        "        new_index = (i - num) % len(val)\n",
        "        new.append(val[new_index])\n",
        "\n",
        "    return new\n",
        "print(rotate(lis,n))"
      ],
      "metadata": {
        "colab": {
          "base_uri": "https://localhost:8080/"
        },
        "id": "THrKbGe5KzsM",
        "outputId": "c030c9f1-c408-4162-e5e4-9df7dc19fc30"
      },
      "id": "THrKbGe5KzsM",
      "execution_count": null,
      "outputs": [
        {
          "output_type": "stream",
          "name": "stdout",
          "text": [
            "[6, 7, 8, 4, 5]\n"
          ]
        }
      ]
    },
    {
      "cell_type": "markdown",
      "source": [
        "Assignment 15: List Intersection\n",
        "Write a function that takes two lists and returns a new list containing only the elements that are present in both lists. Print the intersected list."
      ],
      "metadata": {
        "id": "dzcXntvdNMVV"
      },
      "id": "dzcXntvdNMVV"
    },
    {
      "cell_type": "code",
      "source": [
        "list1=[1,2,4,6,7]\n",
        "list2=[2,5,7,9,1,4]\n",
        "\n",
        "def inter(l1,l2):\n",
        "    ins=[]\n",
        "    for i in range(len(l1)):\n",
        "        for j in range(len(l2)):\n",
        "            if l1[i]==l2[j]and l2[j]not in ins:\n",
        "                ins.append(l2[j])\n",
        "    return ins\n",
        "print(inter(list1,list2))"
      ],
      "metadata": {
        "colab": {
          "base_uri": "https://localhost:8080/"
        },
        "id": "qhI4R3T5NNI8",
        "outputId": "49fedea9-0fb2-43e8-9482-caa6e9984815"
      },
      "id": "qhI4R3T5NNI8",
      "execution_count": null,
      "outputs": [
        {
          "output_type": "stream",
          "name": "stdout",
          "text": [
            "[1, 2, 4, 7]\n"
          ]
        }
      ]
    },
    {
      "cell_type": "code",
      "source": [],
      "metadata": {
        "id": "XxjlE299OAEh"
      },
      "id": "XxjlE299OAEh",
      "execution_count": null,
      "outputs": []
    }
  ],
  "metadata": {
    "kernelspec": {
      "display_name": "Python 3",
      "language": "python",
      "name": "python3"
    },
    "language_info": {
      "codemirror_mode": {
        "name": "ipython",
        "version": 3
      },
      "file_extension": ".py",
      "mimetype": "text/x-python",
      "name": "python",
      "nbconvert_exporter": "python",
      "pygments_lexer": "ipython3",
      "version": "3.9.7"
    },
    "colab": {
      "provenance": []
    }
  },
  "nbformat": 4,
  "nbformat_minor": 5
}