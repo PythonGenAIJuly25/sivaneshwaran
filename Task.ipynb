{
  "nbformat": 4,
  "nbformat_minor": 0,
  "metadata": {
    "colab": {
      "provenance": []
    },
    "kernelspec": {
      "name": "python3",
      "display_name": "Python 3"
    },
    "language_info": {
      "name": "python"
    }
  },
  "cells": [
    {
      "cell_type": "markdown",
      "source": [
        "TASK: Build a simple calcucalor"
      ],
      "metadata": {
        "id": "rigojYmos3xn"
      }
    },
    {
      "cell_type": "code",
      "execution_count": 1,
      "metadata": {
        "colab": {
          "base_uri": "https://localhost:8080/"
        },
        "id": "SNj7aFR8r3uK",
        "outputId": "342a1ef2-4464-41d8-f284-49987eaaf211"
      },
      "outputs": [
        {
          "output_type": "stream",
          "name": "stdout",
          "text": [
            "1. Add\n",
            "2. Subtract\n",
            "3. Multiply\n",
            "4. Divide\n",
            "Enter choice (1/2/3/4): 3\n",
            "Enter first number: 55\n",
            "Enter second number: 44\n",
            "Result: 2420.0\n"
          ]
        }
      ],
      "source": [
        "def add(x, y):\n",
        "    return x + y\n",
        "\n",
        "def subtract(x, y):\n",
        "    return x - y\n",
        "\n",
        "def multiply(x, y):\n",
        "    return x * y\n",
        "\n",
        "def divide(x, y):\n",
        "    if y == 0:\n",
        "        return \"Error: Division by zero\"\n",
        "    return x / y\n",
        "\n",
        "def calculator():\n",
        "    print(\"1. Add\")\n",
        "    print(\"2. Subtract\")\n",
        "    print(\"3. Multiply\")\n",
        "    print(\"4. Divide\")\n",
        "    choice = input(\"Enter choice (1/2/3/4): \")\n",
        "\n",
        "    if choice in ('1', '2', '3', '4'):\n",
        "        num1 = float(input(\"Enter first number: \"))\n",
        "        num2 = float(input(\"Enter second number: \"))\n",
        "\n",
        "        if choice == '1':\n",
        "            print(\"Result:\", add(num1, num2))\n",
        "        elif choice == '2':\n",
        "            print(\"Result:\", subtract(num1, num2))\n",
        "        elif choice == '3':\n",
        "            print(\"Result:\", multiply(num1, num2))\n",
        "        elif choice == '4':\n",
        "            print(\"Result:\", divide(num1, num2))\n",
        "    else:\n",
        "        print(\"Invalid input\")\n",
        "\n",
        "calculator()\n"
      ]
    },
    {
      "cell_type": "markdown",
      "source": [
        "TASK: understand why list cannot be a key in dict\n",
        "\n",
        "\n",
        "\n",
        "---\n",
        "\n",
        "\n",
        "\n"
      ],
      "metadata": {
        "id": "VvpRyFdWtIxC"
      }
    },
    {
      "cell_type": "markdown",
      "source": [
        "list is mutable so it can't used in the key value"
      ],
      "metadata": {
        "id": "9MXIZFJSww_F"
      }
    },
    {
      "cell_type": "markdown",
      "source": [
        " Solve: https://leetcode.com/problems/fizz-buzz/description/"
      ],
      "metadata": {
        "id": "KGLBo6SntcGF"
      }
    },
    {
      "cell_type": "code",
      "source": [],
      "metadata": {
        "id": "APiVo0bHtc5i"
      },
      "execution_count": null,
      "outputs": []
    },
    {
      "cell_type": "markdown",
      "source": [
        "TASK: WAPP to check if the given year is leap year or not.\n"
      ],
      "metadata": {
        "id": "g2ebwroQtoPk"
      }
    },
    {
      "cell_type": "code",
      "source": [
        "def is_leap_year(year):\n",
        "    if (year % 4 == 0 and year % 100 != 0) or (year % 400 == 0):\n",
        "        return True\n",
        "    else:\n",
        "        return False\n",
        "\n",
        "year = int(input(\"Enter a year: \"))\n",
        "if is_leap_year(year):\n",
        "    print(year, \"is a Leap Year\")\n",
        "else:\n",
        "    print(year, \"is Not a Leap Year\")\n"
      ],
      "metadata": {
        "colab": {
          "base_uri": "https://localhost:8080/"
        },
        "id": "qoUk6qPJtp6A",
        "outputId": "82e3cb29-810d-4cf1-85de-540f8d8b337c"
      },
      "execution_count": 2,
      "outputs": [
        {
          "output_type": "stream",
          "name": "stdout",
          "text": [
            "Enter a year: 2004\n",
            "2004 is a Leap Year\n"
          ]
        }
      ]
    },
    {
      "cell_type": "markdown",
      "source": [
        "TASK  : remove duplicates from a list and return the dups\n",
        "\n",
        "TASK  : how many times each letter has occured in the given sentence\n",
        "\n",
        "TASK  : count the occurances of vowels"
      ],
      "metadata": {
        "id": "myKmC0TFuZ7G"
      }
    },
    {
      "cell_type": "code",
      "source": [
        "duplicates = set()\n",
        "unique = []\n",
        "seen=set()\n",
        "data = [1, 2, 3, 2, 4, 5, 1, 6, 3]\n",
        "\n",
        "\n",
        "for item in data:\n",
        "    if item in seen:\n",
        "        duplicates.add(item)\n",
        "    else:\n",
        "        unique.append(item)\n",
        "        seen.add(item)\n",
        "\n",
        "\n",
        "print(\"actual List:\", data)\n",
        "print(\"Duplicates:\", duplicates)\n"
      ],
      "metadata": {
        "colab": {
          "base_uri": "https://localhost:8080/"
        },
        "id": "r8yQN01ougDe",
        "outputId": "e7720426-3ed1-41b6-aaca-44e1e37e60db"
      },
      "execution_count": 3,
      "outputs": [
        {
          "output_type": "stream",
          "name": "stdout",
          "text": [
            "Unique List: [1, 2, 3, 2, 4, 5, 1, 6, 3]\n",
            "Duplicates: {1, 2, 3}\n"
          ]
        }
      ]
    },
    {
      "cell_type": "code",
      "source": [
        "def letter_frequency(sentence):\n",
        "    sentence = sentence.lower()\n",
        "    frequency = {}\n",
        "\n",
        "    for char in sentence:\n",
        "        if char.isalpha():\n",
        "            frequency[char] = frequency.get(char, 0) + 1\n",
        "\n",
        "    return frequency\n",
        "\n",
        "text = \"Hello World\"\n",
        "result = letter_frequency(text)\n",
        "print(\"Letter Frequencies:\", result)\n"
      ],
      "metadata": {
        "colab": {
          "base_uri": "https://localhost:8080/"
        },
        "id": "k6XiWkoPyXnb",
        "outputId": "42d696ed-e4c1-4da3-bc73-1373371dc33b"
      },
      "execution_count": 4,
      "outputs": [
        {
          "output_type": "stream",
          "name": "stdout",
          "text": [
            "Letter Frequencies: {'h': 1, 'e': 1, 'l': 3, 'o': 2, 'w': 1, 'r': 1, 'd': 1}\n"
          ]
        }
      ]
    },
    {
      "cell_type": "code",
      "source": [
        "def count_vowels(sentence):\n",
        "    vowels = \"aeiou\"\n",
        "    sentence = sentence.lower()\n",
        "    count = {v: 0 for v in vowels}\n",
        "    for char in sentence:\n",
        "        if char in vowels:\n",
        "            count[char] += 1\n",
        "    return count\n",
        "\n",
        "text = \"This is a simple sentence.\"\n",
        "vowel_count = count_vowels(text)\n",
        "print(\"Vowel Counts:\", vowel_count)"
      ],
      "metadata": {
        "colab": {
          "base_uri": "https://localhost:8080/"
        },
        "id": "WqlC0v0mzpZy",
        "outputId": "6aaf0cc2-a0ba-4b09-9fab-197741d78b7c"
      },
      "execution_count": 5,
      "outputs": [
        {
          "output_type": "stream",
          "name": "stdout",
          "text": [
            "Vowel Counts: {'a': 1, 'e': 4, 'i': 3, 'o': 0, 'u': 0}\n"
          ]
        }
      ]
    },
    {
      "cell_type": "markdown",
      "source": [
        "TASK: concat 2 dicts,\n"
      ],
      "metadata": {
        "id": "nY4cH4zZuojz"
      }
    },
    {
      "cell_type": "code",
      "source": [
        "dic1={i:i*2 for i in range(1,6)}\n",
        "dic2={i:i*2 for i in range(5,11)}\n",
        "dic1.update(dic2)\n",
        "dic1"
      ],
      "metadata": {
        "colab": {
          "base_uri": "https://localhost:8080/"
        },
        "id": "Iju95LCQup0y",
        "outputId": "453bc58b-344a-4ab4-9c9d-cb8c559260a1"
      },
      "execution_count": 9,
      "outputs": [
        {
          "output_type": "execute_result",
          "data": {
            "text/plain": [
              "{1: 2, 2: 4, 3: 6, 4: 8, 5: 10, 6: 12, 7: 14, 8: 16, 9: 18, 10: 20}"
            ]
          },
          "metadata": {},
          "execution_count": 9
        }
      ]
    },
    {
      "cell_type": "markdown",
      "source": [
        " TASK: factorial of a number using reduce function in python\n"
      ],
      "metadata": {
        "id": "EUhDqG70vAEY"
      }
    },
    {
      "cell_type": "code",
      "source": [
        "from functools import reduce\n",
        "\n",
        "value=[i for i in range(1,6)]\n",
        "num=reduce(lambda x,y:x*y,value)\n",
        "num"
      ],
      "metadata": {
        "colab": {
          "base_uri": "https://localhost:8080/"
        },
        "id": "sQV3k8EPvBXd",
        "outputId": "bd721ed9-7b80-42b3-c6c4-12b345718b2e"
      },
      "execution_count": 13,
      "outputs": [
        {
          "output_type": "execute_result",
          "data": {
            "text/plain": [
              "120"
            ]
          },
          "metadata": {},
          "execution_count": 13
        }
      ]
    },
    {
      "cell_type": "markdown",
      "source": [
        " randomly arrange a bunch of students into groups of 5\n",
        "\n",
        "idea: 40 student name -> 5 groups -> randomly assign students into each group."
      ],
      "metadata": {
        "id": "xnn8QvSxvGhd"
      }
    },
    {
      "cell_type": "code",
      "source": [],
      "metadata": {
        "id": "EfyrwCWFvH7j"
      },
      "execution_count": null,
      "outputs": []
    }
  ]
}