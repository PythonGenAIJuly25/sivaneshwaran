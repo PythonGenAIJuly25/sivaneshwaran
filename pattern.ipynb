{
  "nbformat": 4,
  "nbformat_minor": 0,
  "metadata": {
    "colab": {
      "provenance": []
    },
    "kernelspec": {
      "name": "python3",
      "display_name": "Python 3"
    },
    "language_info": {
      "name": "python"
    }
  },
  "cells": [
    {
      "cell_type": "markdown",
      "source": [
        "#pattern"
      ],
      "metadata": {
        "id": "VTkr_s6aq6Rl"
      }
    },
    {
      "cell_type": "markdown",
      "source": [
        "![image.png](data:image/png;base64,iVBORw0KGgoAAAANSUhEUgAAAIgAAACYCAYAAAA/bKHJAAAAAXNSR0IArs4c6QAAAARnQU1BAACxjwv8YQUAAAAJcEhZcwAADsMAAA7DAcdvqGQAAAS0SURBVHhe7dsxa1tXAIbhL03iUEIjUrB0pyy1oj/QTIl/QMjYFIyHLh2MNpGxi/FSOgltJmsCWiqPpXSWTYYkc1CusrjLkQQpKqXEIaEdJEER9CM6V9hXuu8zytcXDS8+B8x3qVKp/CPgf3w2/wHwXwQCi0BgEQgsAoFFILAIBBaBwCIQWAQCi0BgEQisbIFcvqmXm4l+nP8cayMikKt6cvOWnlyW9PG9Rh/O9EbS95/fUvrF9fmHseIuRf27fyNRWrohvftTb65I0g19deWdnr091Xcf5x/GKosLZGYjUVraIIw1FnHETMPYvK30mvTmw3uVb9xWyl1kLUUEclVPrm/o2dvXqv59pk2d6ec/Xuunvzb0LXeQtZPtiLl8Uy+/vKbfRkE/zP8MayFbIFh7EUcMioRAYBEILAKBRSCwCAQWgcAiEFgEAotAYBEILAKBRSCwCAQWgcAiEFgEAotAYBEILAKBRSCwCARWtkCWuu6vq9ML6rbmP8dFighkuev++lFPvaO6pEOdjsYavJK011EvdNWcfxjnLm44tdR1f1PdsKuqUqX9siSpulXS+ORAtW8O5x/GOYsLZGap6/5JKGXCyJWII2bZ6/6muiEohDtSf6xhpaEQuIvkRUQgy133148eqHxyoCRpa7ApDZ7WlOwfq7zDHSQPsh0xS13319Xp7avya6LtxvzPcFGyBYK1F3HEoEgIBBaBwCIQWAQCi0BgEQgsAoFFILAIBBaBwCIQWAQCi0BgEQgsAoFFILAIBBaBwCIQWAQCi0BgZQskx+v+5nGYjsKRRUQgOV73t7oKx5PfSgdjDX8/nE47e+rszT+MTxE3nMrtun+yzrtXGivtS9JQ1a2q1G8rufdo/mF8grhAZnK77p+GMiKMrCKOmDyv+yf3mBAaqozGSnVHIXAXySIikByv+1u7k78aSU3PVZJebCtJ2hrebXAHiZTtiMnxur95HPRgsIzjqtiyBYK1F3HEoEgIBBaBwCIQWAQCi0BgEQgsAoFFILAIBBaBwCIQWAQCi0BgEQgsAoFFILAIBBaBwCIQWAQCi0BgZQukKOv+Vleh19GS3rZSIgIpyrq/qe7sO7waaDw61eGyw1sBccOpgqz760c97d8tadxPJUnDraqqStVOtrX421ZTXCAzBVn3T0IZFiqMmYgjpjjr/vpRTyEENSpDjfvSnRAKdxeJCKQo6/6mdu8O1U4S1V5IJT3XdpKoPbqnRmRwqyjbEVOUdX+rq3B/oIPaQy3hbSslWyBYexFHDIqEQGARCCwCgUUgsAgEFoHAIhBYBAKLQGARCCwCgUUgsAgEFoHAIhBYBAKLQGARCCwCgUUgsAgEVrZAWPcvLnaYfkEiAmHdv3h4dXV60+/w+FTD8UDpbNo5/b55FTecYt2/+Ii71VXYqUr9VOmmJFVVLY11vF/Tw8fzD+dHXCAzrPsX1+oq7JRzH8ZMxBHDuj/qba2uQggKX0vpeKjKo6AQc4yes4hAWPcvvu6vq3O/rOP9RMnTgcoaqF1LdHBS1u5a3kFmWPcvbq+j3kFFvyzjuDoH2QLB2os4YlAkBAKLQGARCCwCgUUgsAgEFoHAIhBYBAKLQGD9C4vXO9FG2dRYAAAAAElFTkSuQmCC)\n"
      ],
      "metadata": {
        "id": "tenbDHZGq-f0"
      }
    },
    {
      "cell_type": "code",
      "source": [
        "num=6\n",
        "for i in range(num):\n",
        "    for j in range(i):\n",
        "        print(\"*\",end=\"\")\n",
        "    print(\"\")"
      ],
      "metadata": {
        "colab": {
          "base_uri": "https://localhost:8080/"
        },
        "id": "PAzEoA7gq4pk",
        "outputId": "803d8520-f083-4680-d03f-3cbcfe90e44c"
      },
      "execution_count": 1,
      "outputs": [
        {
          "output_type": "stream",
          "name": "stdout",
          "text": [
            "\n",
            "*\n",
            "**\n",
            "***\n",
            "****\n",
            "*****\n"
          ]
        }
      ]
    },
    {
      "cell_type": "markdown",
      "source": [
        "![image.png](data:image/png;base64,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)"
      ],
      "metadata": {
        "id": "xXbf7nuyVQxT"
      }
    },
    {
      "cell_type": "code",
      "source": [
        "num=6\n",
        "for i in range(num):\n",
        "    space=\" \"*(num-i)\n",
        "    star=\"*\"*i\n",
        "    print(space,star)\n",
        "\n"
      ],
      "metadata": {
        "colab": {
          "base_uri": "https://localhost:8080/"
        },
        "id": "ueSybRO8VU87",
        "outputId": "5d21581e-bbbb-45e1-ff4f-209940927fd1"
      },
      "execution_count": 20,
      "outputs": [
        {
          "output_type": "stream",
          "name": "stdout",
          "text": [
            "       \n",
            "      *\n",
            "     **\n",
            "    ***\n",
            "   ****\n",
            "  *****\n"
          ]
        }
      ]
    },
    {
      "cell_type": "markdown",
      "source": [
        "![image.png](data:image/png;base64,iVBORw0KGgoAAAANSUhEUgAAAH0AAACsCAYAAABW4qOvAAAAAXNSR0IArs4c6QAAAARnQU1BAACxjwv8YQUAAAAJcEhZcwAADsMAAA7DAcdvqGQAAAThSURBVHhe7duxaxtnHMbxJ3XiUEItXJB0U5b6on+gnmz/ASFjUjAesmQw2kTGLkJL6SS0mawOaKk8ltL5ZDIkmcPl5MVdXp0g5UopcUhoB0nLLerv9WFJ9zyf8XwWsr/ye16eW/V6/V8Ila/yF6T8FJ2QohNSdEKKTkjRCSk6IUUnpOiEFJ2QohNSdEKKTkjRCSk6IUUnpOiEFJ2QohNSdEKKTkjRCSk6IUUn5Bd9YxtvqwF+yl/30sQgdoh6+et+ukOH+KyZv+ynF8HFAxTyascDxC5CN399CQzR7+B0+z5ONwB8+YTJ5ytcAHj29X0k39zL37xQ8yyexTnB5STD+N01fjG9CG44/a5knCH94wRAF5GLMTjO37xIF9H8PbwbI5tc4sT7w9TEIJ69hxeXSLMxktnPPn+/y3DLNGvaDJBUtoCPf+HiNgBs4bvbH/HqwyWefsnfvEgXkTtCiATJqAYACHcqyM47aDw+yd+8QBODuI39SoZkBAApwp0QGPUR7D/P37xQ8yxGe6+CbJQAANKdECES9IMDmF+tF8EdhsAoQVIFgBBhJcOw3cCTF/mbb4Yt+txmgKSy6Rk7bxq/5hU7bxZ/4hc7bxo/9Yud14vgDmtLjT1nON5nsasPkNwFLj5/Qm3rARLvZ3sXkXNwbhcYZUjrLTjn+2yf/l/gXAv1SYYEu3DO5zieap7FcM6hVU+RjYBd5/yf7b0Izjm474EkS1F/7uB8HmEFMkS/g9N7m3j14T3Cf65QxRV++fM9fv57Ez94PdMfoXbeQRD0Ma4C45cNBO0haocev5De0fSvO2jgNSrAmwMEQR/pXsvrmX60l6IfBGi8ASp4jYMgQH+yj5b5Q9TE4GENw3aA4OUYNYzRbwTonNdwtDbP9LmNbbz99i5+nzj8mP+a2fRIrv8W4KCV/5pdd+jwaFzEo2L2V/pwjE7jCa79ascDxJ06fi3iUXFNftFlrRmOdykLRSek6IQUnZCiE1J0QopOSNEJKTohRSek6IQUnZCiE1J0QopOSNEJKTohRSek6IQUnZCiE1J0Qn7RtVpda4boWq0W9mFaMtvYQavVpa9TimCLPqfV6lozHO9arfq92uoxRNdq1b5aXU1+x7tWq2vNL7qsNcPxLmWh6IQUnZCiE1J0QopOSNEJKTohRSek6IQUnZCiE1J0QopOSNEJKTohRSek6IQUnZCiE1J0QopOyC86y2q1pAzRWVar5WcbO5CsVsvOFn2OZLVaVobjnWe1WnaG6Cyr1fLzO95ZVqsl5Rdd1prheJeyUHRCik5I0QkpOiFFJ6TohBSdkKITUnRCik5I0QkpOiFFJ6TohBSdkKITUnRCik5I0QkpOiFFJ+QXfYVXq7KYIfoKr1bFxDZ2WNnVqljYos+t7GpV/g/D8b7Kq1WxMERf4dWqmPgd7yu8WpXF/KLLWjMc71IWik5I0QkpOiFFJ6TohBSdkKITUnRCik5I0QkpOiFFJ6TohBSdkKITUnRCik5I0QkpOiFFJ6TohPyiF7palZtmiF7salWWxzZ2KHS1Kstiiz5X6GpVbprheC96tSrLYohe7GpVlsfveC90tSo3zS+6rDXD8S5loeiEFJ2QohNSdEKKTkjRCSk6IUUnpOiEFJ2QohNSdEKKTkjRCSk6IUUnpOiEFJ3Qf2k+O/mhOHvmAAAAAElFTkSuQmCC)"
      ],
      "metadata": {
        "id": "ilpLIR3RVZKL"
      }
    },
    {
      "cell_type": "code",
      "source": [
        "num=6\n",
        "for i in range(num):\n",
        "    for j in range(num):\n",
        "        print(\"*\",end=\"\")\n",
        "    num-=1\n",
        "    print(\"\")"
      ],
      "metadata": {
        "colab": {
          "base_uri": "https://localhost:8080/"
        },
        "id": "s1Z65FiEVamj",
        "outputId": "ae7f93a6-744f-477b-d5d9-d396045d0bdd"
      },
      "execution_count": 16,
      "outputs": [
        {
          "output_type": "stream",
          "name": "stdout",
          "text": [
            "******\n",
            "*****\n",
            "****\n",
            "***\n",
            "**\n",
            "*\n"
          ]
        }
      ]
    },
    {
      "cell_type": "markdown",
      "source": [
        "![image.png](data:image/png;base64,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)"
      ],
      "metadata": {
        "id": "6WYIC5cxVhY7"
      }
    },
    {
      "cell_type": "code",
      "source": [
        "rows = 5\n",
        "\n",
        "for i in range(rows, 0, -1):\n",
        "    for space in range(rows - i):\n",
        "        print(\" \", end=\"\")\n",
        "\n",
        "    for star in range(i):\n",
        "        print(\"*\", end=\" \")\n",
        "\n",
        "    print()\n"
      ],
      "metadata": {
        "colab": {
          "base_uri": "https://localhost:8080/"
        },
        "id": "FRB1vJUFViSu",
        "outputId": "dd38c5a1-8349-45e7-d22c-e354c5720797"
      },
      "execution_count": 26,
      "outputs": [
        {
          "output_type": "stream",
          "name": "stdout",
          "text": [
            "* * * * * \n",
            " * * * * \n",
            "  * * * \n",
            "   * * \n",
            "    * \n"
          ]
        }
      ]
    },
    {
      "cell_type": "markdown",
      "source": [
        "![image.png](data:image/png;base64,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)"
      ],
      "metadata": {
        "id": "heAyS5L4WZLG"
      }
    },
    {
      "cell_type": "code",
      "source": [
        "num=6\n",
        "for i in range(num+1):\n",
        "    for j in range(i):\n",
        "        print(\"*\",end=\"\")\n",
        "    print(\" \")\n",
        "\n",
        "print(\"\\n\",end=\"\")\n",
        "\n",
        "for i in range(num):\n",
        "    for j in range(num):\n",
        "        print(\"*\",end=\"\")\n",
        "    num-=1\n",
        "    print(\" \")\n"
      ],
      "metadata": {
        "colab": {
          "base_uri": "https://localhost:8080/"
        },
        "id": "CWMVcNiSWa5J",
        "outputId": "d6a76ceb-fc4e-40ea-8821-88d1ebad26f2"
      },
      "execution_count": 41,
      "outputs": [
        {
          "output_type": "stream",
          "name": "stdout",
          "text": [
            " \n",
            "* \n",
            "** \n",
            "*** \n",
            "**** \n",
            "***** \n",
            "****** \n",
            "\n",
            "****** \n",
            "***** \n",
            "**** \n",
            "*** \n",
            "** \n",
            "* \n"
          ]
        }
      ]
    },
    {
      "cell_type": "markdown",
      "source": [
        "![image.png](data:image/png;base64,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)"
      ],
      "metadata": {
        "id": "qRV4wlbsWdQD"
      }
    },
    {
      "cell_type": "code",
      "source": [
        "num=6\n",
        "for i in range(num+1):\n",
        "    for j in range(i):\n",
        "        print(\"*\",end=\"\")\n",
        "    print(\" \")\n",
        "print(\"\",end=\"\")\n",
        "for i in range(num+1):\n",
        "    for j in range(num+1):\n",
        "        print(\"*\",end=\"\")\n",
        "    num-=1\n",
        "    print(\" \")\n"
      ],
      "metadata": {
        "colab": {
          "base_uri": "https://localhost:8080/"
        },
        "id": "HzS72VYqWjS-",
        "outputId": "4a31f2f0-a169-4a5e-b004-2065ce8f25e3"
      },
      "execution_count": 33,
      "outputs": [
        {
          "output_type": "stream",
          "name": "stdout",
          "text": [
            " \n",
            "* \n",
            "** \n",
            "*** \n",
            "**** \n",
            "***** \n",
            "****** \n",
            "******* \n",
            "****** \n",
            "***** \n",
            "**** \n",
            "*** \n",
            "** \n",
            "* \n"
          ]
        }
      ]
    },
    {
      "cell_type": "markdown",
      "source": [
        "![image.png](data:image/png;base64,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)"
      ],
      "metadata": {
        "id": "NSPPWHyrWj1Z"
      }
    },
    {
      "cell_type": "code",
      "source": [
        "num=6\n",
        "for i in range(num+1):\n",
        "    for j in range(num-i):\n",
        "        print(\" \",end=\"\")\n",
        "    for j in range(i+1):\n",
        "        print(\"*\",end=\"\")\n",
        "    print(\"\")\n",
        "\n",
        "print(\"\",end=\"\")\n",
        "for i in range(num):\n",
        "    for j in range(i+1):\n",
        "        print(\" \",end=\"\")\n",
        "\n",
        "    for k in range(num-i):\n",
        "        print(\"*\",end=\"\")\n",
        "    print(\"\")"
      ],
      "metadata": {
        "colab": {
          "base_uri": "https://localhost:8080/"
        },
        "id": "lVndfw6yWpUM",
        "outputId": "618ec8c6-0bcd-41ca-9c36-90898931fcb0"
      },
      "execution_count": 65,
      "outputs": [
        {
          "output_type": "stream",
          "name": "stdout",
          "text": [
            "      *\n",
            "     **\n",
            "    ***\n",
            "   ****\n",
            "  *****\n",
            " ******\n",
            "*******\n",
            " ******\n",
            "  *****\n",
            "   ****\n",
            "    ***\n",
            "     **\n",
            "      *\n"
          ]
        }
      ]
    },
    {
      "cell_type": "markdown",
      "source": [
        "![image.png](data:image/png;base64,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)"
      ],
      "metadata": {
        "id": "I5mRIDUTWptj"
      }
    },
    {
      "cell_type": "code",
      "source": [
        "rows = 5\n",
        "\n",
        "for i in range(rows, 0, -1):\n",
        "    for space in range(rows - i):\n",
        "        print(\" \", end=\"\")\n",
        "\n",
        "    for star in range(i):\n",
        "        print(\"*\", end=\" \")\n",
        "\n",
        "    print()\n",
        "for i in range(rows):\n",
        "    for space in range(rows-i):\n",
        "        print(\" \", end=\"\")\n",
        "    for star in range(i):\n",
        "        print(\"*\", end=\" \")\n",
        "\n",
        "    print()"
      ],
      "metadata": {
        "colab": {
          "base_uri": "https://localhost:8080/"
        },
        "id": "3scGzUonWucg",
        "outputId": "7f4a597c-9220-4e56-f490-439f5c41a730"
      },
      "execution_count": 47,
      "outputs": [
        {
          "output_type": "stream",
          "name": "stdout",
          "text": [
            "* * * * * \n",
            " * * * * \n",
            "  * * * \n",
            "   * * \n",
            "    * \n",
            "     \n",
            "    * \n",
            "   * * \n",
            "  * * * \n",
            " * * * * \n"
          ]
        }
      ]
    },
    {
      "cell_type": "markdown",
      "source": [
        "![image.png](data:image/png;base64,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)"
      ],
      "metadata": {
        "id": "f3it2_S-WvPu"
      }
    },
    {
      "cell_type": "code",
      "source": [
        "rows = 5\n",
        "\n",
        "for i in range(1, rows + 1):\n",
        "    for space in range(rows - i):\n",
        "        print(\" \", end=\"\")\n",
        "    for star in range(2 * i - 1):\n",
        "        print(\"*\", end=\"\")\n",
        "    print()\n",
        "\n",
        "for i in range(rows - 1, 0, -1):\n",
        "    for space in range(rows - i):\n",
        "        print(\" \", end=\"\")\n",
        "    for star in range(2 * i - 1):\n",
        "        print(\"*\", end=\"\")\n",
        "    print()\n"
      ],
      "metadata": {
        "colab": {
          "base_uri": "https://localhost:8080/"
        },
        "id": "3vYXEa20W2ST",
        "outputId": "211a689f-6036-4b59-87af-071d95542efe"
      },
      "execution_count": 66,
      "outputs": [
        {
          "output_type": "stream",
          "name": "stdout",
          "text": [
            "    *\n",
            "   ***\n",
            "  *****\n",
            " *******\n",
            "*********\n",
            " *******\n",
            "  *****\n",
            "   ***\n",
            "    *\n"
          ]
        }
      ]
    },
    {
      "cell_type": "markdown",
      "source": [
        "![image.png](data:image/png;base64,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)"
      ],
      "metadata": {
        "id": "tBizCGVMW2vU"
      }
    },
    {
      "cell_type": "code",
      "source": [
        "rows = 7\n",
        "ch = 65\n",
        "\n",
        "for i in range(1, rows + 1):\n",
        "    for j in range(i):\n",
        "        print(chr(ch), end=\" \")\n",
        "        ch += 1\n",
        "    print()\n"
      ],
      "metadata": {
        "colab": {
          "base_uri": "https://localhost:8080/"
        },
        "id": "RuJY89BKXE9f",
        "outputId": "dbd02b96-fbca-4345-ede6-3bffceed7677"
      },
      "execution_count": 67,
      "outputs": [
        {
          "output_type": "stream",
          "name": "stdout",
          "text": [
            "A \n",
            "B C \n",
            "D E F \n",
            "G H I J \n",
            "K L M N O \n",
            "P Q R S T U \n",
            "V W X Y Z [ \\ \n"
          ]
        }
      ]
    },
    {
      "cell_type": "markdown",
      "source": [
        "![image.png](data:image/png;base64,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)"
      ],
      "metadata": {
        "id": "ZtxbK5WIVkmv"
      }
    },
    {
      "cell_type": "code",
      "source": [
        "num = 1\n",
        "\n",
        "for i in range(1, 6):\n",
        "    for j in range(i):\n",
        "        print(num, end=\" \")\n",
        "    print()\n",
        "    num += 2\n"
      ],
      "metadata": {
        "colab": {
          "base_uri": "https://localhost:8080/"
        },
        "id": "27quNNtHVvcq",
        "outputId": "24aa6810-e552-4324-8366-b3d1a8512154"
      },
      "execution_count": 76,
      "outputs": [
        {
          "output_type": "stream",
          "name": "stdout",
          "text": [
            "1 \n",
            "3 3 \n",
            "5 5 5 \n",
            "7 7 7 7 \n",
            "9 9 9 9 9 \n"
          ]
        }
      ]
    },
    {
      "cell_type": "markdown",
      "source": [
        "![image.png](data:image/png;base64,iVBORw0KGgoAAAANSUhEUgAAAIkAAACyCAYAAAB2meynAAAAAXNSR0IArs4c6QAAAARnQU1BAACxjwv8YQUAAAAJcEhZcwAADsMAAA7DAcdvqGQAAA5eSURBVHhe7d1/UFXnncfxd92czfaEmUtt0QYd0b2MG2tp0VRNdWFQR7FBu9IMpHOZKJZgMt5xFt3cJkED9RcmIY1ktjiJlIp2L+PgtGpSMqIjsVJdjRMlJVbG0RVsIBvYstwJuR17Enb/uJeIR+DhnnMuQvy+ZvjjnvNw5pnDh+f8mOf53q88siDt/xBiCOPMG4Qwk5AIJQmJUJKQCCUJiVCSkAglCYlQkpAIJQmJUJKQCCUJiVCSkAglCYlQkpAIJQmJUJKQCCUJiVCSkAglCYlQ+ordOa56fApZP8lk4XQXWk8T5evKOGNuFCn9IVb+JIcls+KJ1YBeg+72Jt6uLKf2mrlxJFzMX+0l6/tuJuihLUZPJ63nDrFr3zm6zc0t0lMLKH0yiViA1jpyXqgxNxm2+Rv+He+scGdNWo7msanavNV5lkcSfcYi8re8SsWLuSyd7kIzN7BKT8H3ko+sueGAAIzTiJ08G09hISsHPl/Ds2ANaxbfCgiAFhNH4uK1FK9L6t/SOj0Fb1Y4IF8SlkOyNCubtGkuMDppPHiONnMDq4LttHUF6Pigjorn1pOzKg/vK/W0GIDmZn7Wg+bfiIDB/15voPq1zeSvyiPn6c2UHb1GEJgwI5U55uYR00l7KpNkl0HLxdBxndFK7ao8ckw/IzGKYCckh9+/Rvf1esp9z1H6VjeGuYFl16gu3siGl2s42R46zd1/9FP+h04AvjZ+iql9BE6X89PiKmrf+yj0Bwx+xPnqBq70AH8zbP9R9dS1ZM1yYVyvp/xdu0cbPSyHhCOleIv9nOky74iunpsB8ybL9PjZZG3IYGaMQct7J7hkbhAJPQXvj5OIDTZz8KUa2s37xzDrIRlRbjK+FQd0cvU/m807I5TNjv2V+PdXUvGil5Xf/XuuvFXGjmo7d8Q6aeuySY4J0lhdTq3jg0gCGeE++6tep+LnheQveQg7t2eRGBMhSXwilwUToftiLXsvmvfaNM7FzBUFbPK4zXuGTU9dS853dLov1lB+yvGE3G6chh7nJu0Je32OxKgPSaKniM1L4qG1jl27GmzfN0ANm/pu/gq2UHGilSAaU5fl451lbjsMejoFniT0QBMH33Cif7c7syt08x76WY9vZxW1VwKAxtTFj7PS/AtRMIpDojNnzTY2L0uA1npKd9Zw1dzErq4bnNy3lZdOdQJxxM8wNxiGWTOYpgOuJPJfD18S9lfifyopdDlISA993l3AfPPvRixI++UGqrcforEH0O4bkUvOKA2Ji6UbtlOwMDSCbH/BzyWn/0X7ab/p3LPZiNC/Qcz95o3RY/uNa0g2O/anM9WRN65uMp734pnhwrhex/biKIwgfcZPYf7CH5H1aBITtHaOFb7Avg/NjSxaUEDFU0noNt+43s5FwsJ0cpYvYmachnH1EOu2/s7xS5yZ9ZB4ivAvSzBvvcVqYPpOrnn7F4I0vrGe0tPm7WqDv+I2aDlayiZbTzgmjoRkHr7da0mOMW8Hui5QUVjOyWgnZPRebkaIEaTj+gUO7tzobECiyOjp5OqJKnwjFBBsjSTinnFvjyRiWCQkQklCIpQkJEJJQiKUJCRCSUIilCQkQklCIpQkJEJJQiKUJCRCSUIilCQkQklCIpQkJELJ1qQjfcZy1j6xiOR4F9o4wAjQdrGOPb+oszcvVaoKfGHwKZdjoapAagGlz2cyZ3I4IACai0lzs9lctHyIOaoKUlVg1LEckmBbO92BTi69XYXv6TxyVm2k9EQrBqAlziNrsvk3hkmqCgxgjFYV4FoNm9Y/R8mBBkKL/wM07qvg9McAsUwYYiL90KSqwGhjPSRD+pSgc4v/byNVBUaesyFxp/OtiUDnf3H6A/NOO6SqwJekqoCb1XmPMIEAjUf+g0bzbhukqkA/d6GqgK1H4FvceLb4yJiG4yvhEj1F4UXjdWx/weEln+OnkLYil5zFCeh0cmbXc5RHGkI9ncJXs5lpNFHxbNmtBVOOrOAz04mf8TBpj2WSMd0FxjUO5pVw2NzMYfZDos8mv2gtafHQcryMHb9utn0DGKIzZ83zeBfGh6sKRG/ReOKTL7IlNc7aewflstQwq8teB5SCb3cuyTGt1K7aSqRdjpS9y834RfhKvKGAHC1lk2MBkaoCQxozVQXc6RQWZDPT5fRia6kqMLgxVlVgqNfFYGN4VQ7fUlUApKrAyJGqAsNieSQR9457eyQRwyIhEUoSEqEkIRFKEhKhJCERShISoSQhEUoSEqEkIRFKEhKhJCERShISoSQhEUoSEqEkIRFKEhKhZGNmms7MFWtYvTSJSa7w8v+bAdrer2ffr35na3b7HSUtwqUnjv96L4cv2ziwlJ6wxMZIshxP1uxbAQG438WkuZn4nrFRegJY6TGVtAiXnsh6pkBKT9wFNkICn37cTO3eLXhXhUpPFB64QIcBWuJse99XGwyVtCgsCJVY8BbXcL7TAM3NnB+aG0dCSk9YYSMkNZT4Sql+50Z4mA7Q+vZeGj8GjM9snaDqnaGSFq1doc/d1+vY09gJGHz2V3PrCEjpCUtshMRk/BTSVj/DP0+G7g8aOGbeb5mLhIU5bFoQD4Fm3jlu3m+dlJ4YHhs3rgyweMig7bSfkjcabN8Emm/YjPZzVL28h5Ph0cW68HcY933sDXCpdg9lB+0sUdVJe+Yl8r8Djb98ltJTQYcWZ915Hug1CP7lBu8e/S3+43b6PHzOjSQAaExakMuOf02xdeM6EC1+HvlFXtKcPrCUnlCyOZL0oz/InB88jufRJCZoBld/s5HiI06cMJ34h9PJ8aST7PT6Vyk9MSx/N3nK1J+ZN1pi9NB++SwNn32bH3z7Gzxw80PeOttmbmWBwScfNXPmDwbfXTKTOP0z/lx7lj+bm1nx1wAt7/+ey1+fz8KEOD4PvEl9k7mRwtwVrPr+RLR/mMjDy/+FxzLDP9+biAYQmxj6vOQf+W/b/Tb45H9u0HQqiHtJMt/86ie0HPo9kXY5Ug5fbiDYEyQqhRyCQXqicmApPaHi6OVm5rxFeB5fxFQ9yKV96yk5YW5kRWiIXfLjbJZO0wl+4Cf/5XpzI2uk9MSwWA+Jpwj/soHrcHa/V4XvtQaLnTc9ffRns9zCHU8KX5DSE0Nx7nLTa9Dd3syx3RvxWg7IwIxAO5dO7MFb4PBJkdITw2J9JBH3DOdGEvGlJSERShISoSQhEUoSEqEkIRFKEhKhJCERShISoSQhEUoSEqEkIRFKEhKhJCERShISoSQhEUoSEqHk0Mw0nbQN28mf5QKHSyI4Wcbhdm4823xkJGi2vrJtIE72efB5uc6e56E4MpL0LZR2XBTLOCR6clia0K9shlOi2Oe7xX5I+k6K0UrjFSdn5karjAPgzmbN4gS0QBONTi2hgCj2ecyWnuD2k3K8gtOfmvdbF70yDm48uYuYqgU4f6CMts/N+62LXp/vLlsh0VPXkjPLRfDyIXYc+Mi827oolnFIfCKXpQkaHe+UU+bQPQhEt893m/WQhE+K3tOE/7U6B4dWnbR12STHBGmsLqfWuQODO4e1afHwYT3le51cZxPFPgOQQMb+Svz7K/FXvU7FzwvJX/KQ45UbBmMxJH0nJUDjgT2OLhKKXhkHN6vzUphEK8cq/Y5+a3n0+jyAu1B6wlJI9GXe8Ek55OxJ0dMp8CShB5o4+IazqwAT1+SzdDK0nPDj6GK9KPYZ4Myu9f1uVtfj21lF7ZUAoDF18eP2atMNk6X3JEM9u/cXvLiH/F3nzJsHp/wK+jALX3Hv2VZJxsBLl28T8buHKPZ5cCn4dueSHNNK7aqtRNJdKyyNJOIuG7OlJ/qNMBH/N6o4skJ/YKERxtk3rhCtPt+d0hMykoxq8/DtDj/V7K/Ev/9VStakMzNOg64LVL0S/YAgIRl7pPSEGJVkJBFKEhKhJCERShISoSQhEUoSEqEkIRFKEhKhJCERShISoSQhEUoSEqEkIRFKEhKhJCERShISoWRj0tEQ33Blc2b44DPbbc5FHWpmu825qNHq81ArExyfSzwIGUmEku2RZEKka2uGwbOtkoyv2xuNBhQeSTqi8B8YrT6HRpLOEVlfMxgZSYSShEQo2b7c9L9xNW4G6PjTWQ7vq+FMV78dEbrjJtAw6P64mdNv7qX6bKDfjggNcONq9HTSeuEYNdX1XLKxRCFafb7jxrXXIPiXG7x79Lf4jzePvXU32v0uJs1Kx7ulgLSBb8it0TRiJyeRsa4YX6qTBwYtJo7E1Bx8z2eTaN5pR7T6fBeqCtgYSUzGT2H+3BWszJrNJA06zpayYXezuZUFLhIeeYTMlZnMideg8xwl/7aHS+ZmFujxDzE39UdkPeomFoOrv3ma4iPmVlZEq8+hb1tPeyyTjOkuMK5xMK+Ew+ZmDnNuJOm6wZmj5fzsZKjGT8z9ThXaC9B6to6yrQ20AXxVx6kjB9ubOXmghIN/DAIa9z1gbmFVtPocpP1yA9XbD9HYA2j3DfzOx2HOhSRsuit0pv/Wa5h32fNPsTwA8LmBs0fWidPDVRh7zftsilafR7iqgGMh0eNnk/FkEd65LqCTP526YG5ijf4gc5blsuOp2cQCHZdPcd7cxqLYaSl4flpERqIGxjXOv2luYVHU+uwiYWE2hdvSSdTAuHoh6pcabN2TeIrwLxvoPbRBy9FSNlkuJ3TnU1Mf43od24trLJeyuuNJoU9vgPO/2kyZ5apN0erzPHy715IcY94OdF2gYoQWjTs2ktBr0P3hBQ6/8qyNgAzMCLRz/kgZBZZP9iCMIB1X6qkotBOQgUWrz1JVQIxKzo0k4ktLQiKUJCRCSUIilCQkQklCIpQkJEJJQiKUJCRCSUIilCQkQklCIpQkJEJJQiKUJCRCSUIilCQkQklCIpQkJEJJQiKUJCRCSUIilP4fBm76NAS6dCsAAAAASUVORK5CYII=)"
      ],
      "metadata": {
        "id": "00d5GPRFV66x"
      }
    },
    {
      "cell_type": "code",
      "source": [
        "n = 5\n",
        "\n",
        "for i in range(1, n + 1):\n",
        "    for j in range(1, n + 1):\n",
        "        if j <= i:\n",
        "            print(i, end=\" \")\n",
        "        else:\n",
        "            print(j, end=\" \")\n",
        "    print()\n"
      ],
      "metadata": {
        "colab": {
          "base_uri": "https://localhost:8080/"
        },
        "id": "SRker-fUWA6e",
        "outputId": "3912888a-0f54-4bc4-8985-27fcef5bfb8a"
      },
      "execution_count": 70,
      "outputs": [
        {
          "output_type": "stream",
          "name": "stdout",
          "text": [
            "1 2 3 4 5 \n",
            "2 2 3 4 5 \n",
            "3 3 3 4 5 \n",
            "4 4 4 4 5 \n",
            "5 5 5 5 5 \n"
          ]
        }
      ]
    }
  ]
}