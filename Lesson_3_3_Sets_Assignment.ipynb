{
  "nbformat": 4,
  "nbformat_minor": 0,
  "metadata": {
    "colab": {
      "provenance": []
    },
    "kernelspec": {
      "name": "python3",
      "display_name": "Python 3"
    },
    "language_info": {
      "name": "python"
    }
  },
  "cells": [
    {
      "cell_type": "markdown",
      "source": [
        "Module 3: Data Structures Assignments\n",
        "Lesson 3.3: Sets\n",
        "\n",
        "Assignment 1: Creating and Accessing Sets\n",
        "Create a set with the first 10 positive integers. Print the set.\n",
        "\n",
        "Assignment 2: Adding and Removing Elements\n",
        "Add the number 11 to the set created in Assignment 1. Then remove the number 1 from the set. Print the modified set.\n",
        "\n",
        "Assignment 3: Set Operations\n",
        "Create two sets: one with the first 5 positive integers and another with the first 5 even integers. Perform and print the results of union, intersection, difference, and symmetric difference operations on these sets.\n",
        "\n",
        "Assignment 4: Set Comprehensions\n",
        "Create a new set containing the squares of the first 10 positive integers using a set comprehension. Print the new set.\n",
        "\n",
        "Assignment 5: Filtering Sets\n",
        "Create a new set containing only the even numbers from the set created in Assignment 1 using a set comprehension. Print the new set.\n",
        "\n",
        "Assignment 6: Set Methods\n",
        "Create a set with duplicate elements and remove the duplicates using set methods. Print the modified set.\n",
        "\n",
        "Assignment 7: Subsets and Supersets\n",
        "Create two sets: one with the first 5 positive integers and another with the first 3 positive integers. Check if the second set is a subset of the first set and if the first set is a superset of the second set. Print the results.\n",
        "\n",
        "Assignment 8: Frozenset\n",
        "Create a frozenset with the first 5 positive integers. Print the frozenset.\n",
        "\n",
        "Assignment 9: Set and List Conversion\n",
        "Create a set with the first 5 positive integers. Convert it to a list, append the number 6, and convert it back to a set. Print the resulting set.\n",
        "\n",
        "Assignment 10: Set and Dictionary\n",
        "Create a dictionary with set keys and integer values. Print the dictionary.\n",
        "\n",
        "Assignment 11: Iterating Over Sets\n",
        "Create a set and iterate over the elements, printing each element.\n",
        "\n",
        "Assignment 12: Removing Elements from Sets\n",
        "Create a set and remove elements from it until it is empty. Print the set after each removal.\n",
        "\n",
        "Assignment 13: Set Symmetric Difference Update\n",
        "Create two sets and update the first set with the symmetric difference of the two sets. Print the modified first set.\n",
        "\n",
        "Assignment 14: Set Membership Testing\n",
        "Create a set and test if certain elements are present in the set. Print the results.\n",
        "\n",
        "Assignment 15: Set of Tuples\n",
        "Create a set containing tuples, where each tuple contains two elements. Print the set."
      ],
      "metadata": {
        "id": "GKYhYtXF1Vh5"
      }
    },
    {
      "cell_type": "markdown",
      "source": [
        "Assignment 1: Creating and Accessing Sets Create a set with the first 10 positive integers. Print the set."
      ],
      "metadata": {
        "id": "OnYmQZLp1ksx"
      }
    },
    {
      "cell_type": "code",
      "execution_count": 1,
      "metadata": {
        "colab": {
          "base_uri": "https://localhost:8080/"
        },
        "id": "xMd_AKgI1SbL",
        "outputId": "79c29b15-ca71-4c38-eaae-6ca3ac84790f"
      },
      "outputs": [
        {
          "output_type": "execute_result",
          "data": {
            "text/plain": [
              "{1, 2, 3, 4, 5, 6, 7, 8, 9, 10}"
            ]
          },
          "metadata": {},
          "execution_count": 1
        }
      ],
      "source": [
        "my_set={i for i in range(1,11)}\n",
        "my_set"
      ]
    },
    {
      "cell_type": "markdown",
      "source": [
        "Assignment 2: Adding and Removing Elements Add the number 11 to the set created in Assignment 1. Then remove the number 1 from the set. Print the modified set."
      ],
      "metadata": {
        "id": "VnbKM3qR10B9"
      }
    },
    {
      "cell_type": "code",
      "source": [
        "my_set={i for i in range(1,11)}\n",
        "my_set.remove(1)\n",
        "my_set.add(11)\n",
        "print(my_set)"
      ],
      "metadata": {
        "colab": {
          "base_uri": "https://localhost:8080/"
        },
        "id": "rHyqB2yj1ujf",
        "outputId": "0a94b499-500a-47b1-8767-3fae7f88559f"
      },
      "execution_count": 4,
      "outputs": [
        {
          "output_type": "stream",
          "name": "stdout",
          "text": [
            "{2, 3, 4, 5, 6, 7, 8, 9, 10, 11}\n"
          ]
        }
      ]
    },
    {
      "cell_type": "markdown",
      "source": [
        "Assignment 3: Set Operations Create two sets: one with the first 5 positive integers and another with the first 5 even integers. Perform and print the results of union, intersection, difference, and symmetric difference operations on these sets."
      ],
      "metadata": {
        "id": "PzwxHx1v2PAu"
      }
    },
    {
      "cell_type": "code",
      "source": [
        "s1={i for i in range(1,6)}\n",
        "s2={i for i in range(1,11)if i%2==0}\n",
        "print(s2)\n",
        "print(s1)\n",
        "dif=s2.difference(s1)\n",
        "inter=s1.intersection(s2)\n",
        "uni=s1.union(s2)\n",
        "syn=s1.symmetric_difference(s2)\n",
        "print(dif)\n",
        "print(inter)\n",
        "print(uni)\n",
        "print(syn)"
      ],
      "metadata": {
        "colab": {
          "base_uri": "https://localhost:8080/"
        },
        "id": "EdJuQ0Yq2RVM",
        "outputId": "42afcd90-6bfa-45a8-8b61-7a2c64d4ed06"
      },
      "execution_count": 18,
      "outputs": [
        {
          "output_type": "stream",
          "name": "stdout",
          "text": [
            "{2, 4, 6, 8, 10}\n",
            "{1, 2, 3, 4, 5}\n",
            "{8, 10, 6}\n",
            "{2, 4}\n",
            "{1, 2, 3, 4, 5, 6, 8, 10}\n",
            "{1, 3, 5, 6, 8, 10}\n"
          ]
        }
      ]
    },
    {
      "cell_type": "markdown",
      "source": [
        "Assignment 4: Set Comprehensions Create a new set containing the squares of the first 10 positive integers using a set comprehension. Print the new set."
      ],
      "metadata": {
        "id": "gg2JPEct4LZg"
      }
    },
    {
      "cell_type": "code",
      "source": [
        "my_set={i for i in range(1,11)}\n",
        "my_set"
      ],
      "metadata": {
        "colab": {
          "base_uri": "https://localhost:8080/"
        },
        "id": "uIGXfKQg4L1x",
        "outputId": "136cc446-66cc-47c4-cb4d-1a9a4795babc"
      },
      "execution_count": 19,
      "outputs": [
        {
          "output_type": "execute_result",
          "data": {
            "text/plain": [
              "{1, 2, 3, 4, 5, 6, 7, 8, 9, 10}"
            ]
          },
          "metadata": {},
          "execution_count": 19
        }
      ]
    },
    {
      "cell_type": "markdown",
      "source": [
        "Assignment 5: Filtering Sets Create a new set containing only the even numbers from the set created in Assignment 1 using a set comprehension. Print the new set."
      ],
      "metadata": {
        "id": "Aq1YBrG24X18"
      }
    },
    {
      "cell_type": "code",
      "source": [
        "my_set={i for i in range(1,11)}\n",
        "new={i for i in my_set if i%2==0 }\n",
        "new"
      ],
      "metadata": {
        "colab": {
          "base_uri": "https://localhost:8080/"
        },
        "id": "kPfrIWd54YW0",
        "outputId": "9b58f22b-093e-421c-82b1-8feb7410a4b3"
      },
      "execution_count": 20,
      "outputs": [
        {
          "output_type": "execute_result",
          "data": {
            "text/plain": [
              "{2, 4, 6, 8, 10}"
            ]
          },
          "metadata": {},
          "execution_count": 20
        }
      ]
    },
    {
      "cell_type": "markdown",
      "source": [
        "Assignment 6: Set Methods Create a set with duplicate elements and remove the duplicates using set methods. Print the modified set."
      ],
      "metadata": {
        "id": "Azy3zvk24uq3"
      }
    },
    {
      "cell_type": "code",
      "source": [],
      "metadata": {
        "id": "dDaO-5Jm4vDO"
      },
      "execution_count": null,
      "outputs": []
    },
    {
      "cell_type": "markdown",
      "source": [
        "Assignment 7: Subsets and Supersets Create two sets: one with the first 5 positive integers and another with the first 3 positive integers. Check if the second set is a subset of the first set and if the first set is a superset of the second set. Print the results."
      ],
      "metadata": {
        "id": "AKDSbq3Y5O7t"
      }
    },
    {
      "cell_type": "code",
      "source": [
        "s1={1,2,3,4,5}\n",
        "s2={1,2,3}\n",
        "print(s1.issubset(s2))\n",
        "print(s1.issuperset(s2))"
      ],
      "metadata": {
        "colab": {
          "base_uri": "https://localhost:8080/"
        },
        "id": "zx2OaEZN5SQ-",
        "outputId": "c1694dd5-803e-43f0-d972-50d6d9f2319e"
      },
      "execution_count": 22,
      "outputs": [
        {
          "output_type": "stream",
          "name": "stdout",
          "text": [
            "False\n",
            "True\n"
          ]
        }
      ]
    },
    {
      "cell_type": "markdown",
      "source": [
        "Assignment 8: Frozenset Create a frozenset with the first 5 positive integers. Print the frozenset."
      ],
      "metadata": {
        "id": "lmC4f8Hi5pTq"
      }
    },
    {
      "cell_type": "code",
      "source": [
        "s1={1,2,32,3,4}\n",
        "frozen=frozenset(s1)\n",
        "print(frozen)"
      ],
      "metadata": {
        "colab": {
          "base_uri": "https://localhost:8080/"
        },
        "id": "yuSBqIBo5o1c",
        "outputId": "1b88c304-7c7f-43f6-e5b7-046d47253adf"
      },
      "execution_count": 23,
      "outputs": [
        {
          "output_type": "stream",
          "name": "stdout",
          "text": [
            "frozenset({32, 1, 2, 3, 4})\n"
          ]
        }
      ]
    },
    {
      "cell_type": "markdown",
      "source": [
        "Assignment 9: Set and List Conversion Create a set with the first 5 positive integers. Convert it to a list, append the number 6, and convert it back to a set. Print the resulting set."
      ],
      "metadata": {
        "id": "zc65Y64p6IOX"
      }
    },
    {
      "cell_type": "code",
      "source": [
        "s={1,2,3,4,5}\n",
        "li=list(s)\n",
        "li.append(6)\n",
        "s1=set(li)\n",
        "s1"
      ],
      "metadata": {
        "colab": {
          "base_uri": "https://localhost:8080/"
        },
        "id": "e1O9-cq06Iky",
        "outputId": "360d7a21-461b-459e-a188-c657b7eda146"
      },
      "execution_count": 25,
      "outputs": [
        {
          "output_type": "execute_result",
          "data": {
            "text/plain": [
              "{1, 2, 3, 4, 5, 6}"
            ]
          },
          "metadata": {},
          "execution_count": 25
        }
      ]
    },
    {
      "cell_type": "markdown",
      "source": [
        "Assignment 10: Set and Dictionary Create a dictionary with set keys and integer values. Print the dictionary."
      ],
      "metadata": {
        "id": "iALhYslX6hdZ"
      }
    },
    {
      "cell_type": "code",
      "source": [
        "dic={(2,3):2,(4,5):5}\n",
        "print(dic)"
      ],
      "metadata": {
        "colab": {
          "base_uri": "https://localhost:8080/"
        },
        "id": "cZs_LdFW6YNO",
        "outputId": "afd18f6f-8e09-47a0-8737-050857e88c68"
      },
      "execution_count": 26,
      "outputs": [
        {
          "output_type": "stream",
          "name": "stdout",
          "text": [
            "{(2, 3): 2, (4, 5): 5}\n"
          ]
        }
      ]
    },
    {
      "cell_type": "markdown",
      "source": [
        "Assignment 11: Iterating Over Sets Create a set and iterate over the elements, printing each element."
      ],
      "metadata": {
        "id": "36BW32Xo653i"
      }
    },
    {
      "cell_type": "code",
      "source": [
        "se={1,2,3,4,5,6,7,8}\n",
        "for i in se:\n",
        "    print(i)"
      ],
      "metadata": {
        "colab": {
          "base_uri": "https://localhost:8080/"
        },
        "id": "L-S-J2pa66RN",
        "outputId": "bb853b2c-588f-40c9-b2f1-487eb73a7e15"
      },
      "execution_count": 27,
      "outputs": [
        {
          "output_type": "stream",
          "name": "stdout",
          "text": [
            "1\n",
            "2\n",
            "3\n",
            "4\n",
            "5\n",
            "6\n",
            "7\n",
            "8\n"
          ]
        }
      ]
    },
    {
      "cell_type": "markdown",
      "source": [
        "Assignment 12: Removing Elements from Sets Create a set and remove elements from it until it is empty. Print the set after each removal."
      ],
      "metadata": {
        "id": "A_Ri8hav7GwY"
      }
    },
    {
      "cell_type": "code",
      "source": [
        "s1={1,2,3,4,5,6}\n",
        "while len(s1)>1:\n",
        "    s1.pop()\n",
        "    print(s1)"
      ],
      "metadata": {
        "colab": {
          "base_uri": "https://localhost:8080/"
        },
        "id": "Y0pH5UTP7HMt",
        "outputId": "2edf88c4-845e-4740-f37b-d4ba6bb5e629"
      },
      "execution_count": 43,
      "outputs": [
        {
          "output_type": "stream",
          "name": "stdout",
          "text": [
            "{2, 3, 4, 5, 6}\n",
            "{3, 4, 5, 6}\n",
            "{4, 5, 6}\n",
            "{5, 6}\n",
            "{6}\n"
          ]
        }
      ]
    },
    {
      "cell_type": "markdown",
      "source": [
        "Assignment 13: Set Symmetric Difference Update Create two sets and update the first set with the symmetric difference of the two sets. Print the modified first set."
      ],
      "metadata": {
        "id": "NMiHJcwo9OqD"
      }
    },
    {
      "cell_type": "code",
      "source": [
        "set1 = {1, 2, 3, 4}\n",
        "set2 = {3, 4, 5, 6}\n",
        "set1.symmetric_difference_update(set2)\n",
        "set1"
      ],
      "metadata": {
        "colab": {
          "base_uri": "https://localhost:8080/"
        },
        "id": "wVMz0MRL9PDt",
        "outputId": "2c16c407-875a-47c4-9c61-d3f55f6ca5f5"
      },
      "execution_count": 44,
      "outputs": [
        {
          "output_type": "execute_result",
          "data": {
            "text/plain": [
              "{1, 2, 5, 6}"
            ]
          },
          "metadata": {},
          "execution_count": 44
        }
      ]
    },
    {
      "cell_type": "markdown",
      "source": [
        "Assignment 14: Set Membership Testing Create a set and test if certain elements are present in the set. Print the results."
      ],
      "metadata": {
        "id": "VriYEF0z9s1i"
      }
    },
    {
      "cell_type": "code",
      "source": [
        "set1={1,2,3,4,5}\n",
        "find=3\n",
        "print(find in set1)"
      ],
      "metadata": {
        "colab": {
          "base_uri": "https://localhost:8080/"
        },
        "id": "xMHT6SNq9ni5",
        "outputId": "b2cd935e-fc48-4e94-b18d-7b65ee46e8ce"
      },
      "execution_count": 45,
      "outputs": [
        {
          "output_type": "stream",
          "name": "stdout",
          "text": [
            "True\n"
          ]
        }
      ]
    },
    {
      "cell_type": "markdown",
      "source": [
        "Assignment 15: Set of Tuples Create a set containing tuples, where each tuple contains two elements. Print the set."
      ],
      "metadata": {
        "id": "Zwo6ibZa-NqV"
      }
    },
    {
      "cell_type": "code",
      "source": [
        "set1={(2,3),(4,5)}\n",
        "print(set1)\n"
      ],
      "metadata": {
        "colab": {
          "base_uri": "https://localhost:8080/"
        },
        "id": "27MHJTTw-Ods",
        "outputId": "1871e09f-99ae-4fea-a936-a46d7bb53d11"
      },
      "execution_count": 50,
      "outputs": [
        {
          "output_type": "stream",
          "name": "stdout",
          "text": [
            "{(2, 3), (4, 5)}\n"
          ]
        }
      ]
    }
  ]
}