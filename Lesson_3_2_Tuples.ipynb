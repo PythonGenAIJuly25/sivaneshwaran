{
  "nbformat": 4,
  "nbformat_minor": 0,
  "metadata": {
    "colab": {
      "provenance": []
    },
    "kernelspec": {
      "name": "python3",
      "display_name": "Python 3"
    },
    "language_info": {
      "name": "python"
    }
  },
  "cells": [
    {
      "cell_type": "markdown",
      "source": [
        "Module 3: Data Structures Assignments\n",
        "Lesson 3.2: Tuples\n",
        "\n",
        "Assignment 1: Creating and Accessing Tuples\n",
        "Create a tuple with the first 10 positive integers. Print the tuple.\n",
        "\n",
        "Assignment 2: Accessing Tuple Elements\n",
        "Print the first, middle, and last elements of the tuple created in Assignment 1.\n",
        "\n",
        "Assignment 3: Tuple Slicing\n",
        "Print the first three elements, the last three elements, and the elements from index 2 to 5 of the tuple created in Assignment 1.\n",
        "\n",
        "Assignment 4: Nested Tuples\n",
        "Create a nested tuple representing a 3x3 matrix and print the matrix. Access and print the element at the second row and third column.\n",
        "\n",
        "Assignment 5: Tuple Concatenation\n",
        "Concatenate two tuples: (1, 2, 3) and (4, 5, 6). Print the resulting tuple.\n",
        "\n",
        "Assignment 6: Tuple Methods\n",
        "Create a tuple with duplicate elements and count the occurrences of an element. Find the index of the first occurrence of an element in the tuple.\n",
        "\n",
        "Assignment 7: Unpacking Tuples\n",
        "Create a tuple with 5 elements and unpack it into 5 variables. Print the variables.\n",
        "\n",
        "Assignment 8: Tuple Conversion\n",
        "Convert a list of the first 5 positive integers to a tuple. Print the tuple.\n",
        "\n",
        "Assignment 9: Tuple of Tuples\n",
        "Create a tuple containing 3 tuples, each with 3 elements. Print the tuple of tuples.\n",
        "\n",
        "Assignment 10: Tuple and List\n",
        "Create a tuple with the first 5 positive integers. Convert it to a list, append the number 6, and convert it back to a tuple. Print the resulting tuple.\n",
        "\n",
        "Assignment 11: Tuple and String\n",
        "Create a tuple with the characters of a string. Join the tuple elements into a single string. Print the string.\n",
        "\n",
        "Assignment 12: Tuple and Dictionary\n",
        "Create a dictionary with tuple keys and integer values. Print the dictionary.\n",
        "\n",
        "Assignment 13: Nested Tuple Iteration\n",
        "Create a nested tuple and iterate over the elements, printing each element.\n",
        "\n",
        "Assignment 14: Tuple and Set\n",
        "Create a tuple with duplicate elements. Convert it to a set to remove duplicates and print the resulting set.\n",
        "\n",
        "Assignment 15: Tuple Functions\n",
        "Write functions that take a tuple and return the minimum, maximum, and sum of the elements. Print the results for a sample tuple."
      ],
      "metadata": {
        "id": "Hx9hDy0y5KhY"
      }
    },
    {
      "cell_type": "markdown",
      "source": [
        "Assignment 1: Creating and Accessing Tuples Create a tuple with the first 10 positive integers. Print the tuple."
      ],
      "metadata": {
        "id": "U_nyqJ9t5WvQ"
      }
    },
    {
      "cell_type": "code",
      "execution_count": 4,
      "metadata": {
        "colab": {
          "base_uri": "https://localhost:8080/"
        },
        "id": "j0gC0mF74gYF",
        "outputId": "997bc5a6-b62f-4e1d-c330-3f5d301e66af"
      },
      "outputs": [
        {
          "output_type": "stream",
          "name": "stdout",
          "text": [
            "(1, 2, 3, 4, 5, 6, 7, 8, 9, 10)\n"
          ]
        }
      ],
      "source": [
        "tup=tuple(i for i in range(1,11))\n",
        "print(tup)"
      ]
    },
    {
      "cell_type": "markdown",
      "source": [
        "Assignment 2: Accessing Tuple Elements Print the first, middle, and last elements of the tuple created in Assignment 1."
      ],
      "metadata": {
        "id": "79qmLx3Z590A"
      }
    },
    {
      "cell_type": "code",
      "source": [
        "tup=tuple(i for i in range(1,11))\n",
        "print(tup[0])\n",
        "print(tup[len(tup)//2])\n",
        "print (tup[len(tup)-1])"
      ],
      "metadata": {
        "colab": {
          "base_uri": "https://localhost:8080/"
        },
        "id": "tVPhXVky6AWJ",
        "outputId": "415d4948-b3f8-48f1-a8ec-85566d7d1814"
      },
      "execution_count": 9,
      "outputs": [
        {
          "output_type": "stream",
          "name": "stdout",
          "text": [
            "1\n",
            "6\n",
            "10\n"
          ]
        }
      ]
    },
    {
      "cell_type": "markdown",
      "source": [
        "Assignment 3: Tuple Slicing Print the first three elements, the last three elements, and the elements from index 2 to 5 of the tuple created in Assignment 1."
      ],
      "metadata": {
        "id": "brAUaD8h6lki"
      }
    },
    {
      "cell_type": "code",
      "source": [
        "tup=tuple(i for i in range(1,11))\n",
        "print(tup[0:3])\n",
        "print(tup[-3:])\n",
        "print(tup[2:5])\n"
      ],
      "metadata": {
        "colab": {
          "base_uri": "https://localhost:8080/"
        },
        "id": "0UscNYjx6l8s",
        "outputId": "fbc4325f-844b-4a07-a4f9-73d3fbfa7329"
      },
      "execution_count": 10,
      "outputs": [
        {
          "output_type": "stream",
          "name": "stdout",
          "text": [
            "(1, 2, 3)\n",
            "(8, 9, 10)\n",
            "(3, 4, 5)\n"
          ]
        }
      ]
    },
    {
      "cell_type": "markdown",
      "source": [
        "Assignment 4: Nested Tuples Create a nested tuple representing a 3x3 matrix and print the matrix. Access and print the element at the second row and third column."
      ],
      "metadata": {
        "id": "-1Y8J-xT64S3"
      }
    },
    {
      "cell_type": "code",
      "source": [
        "tup=(\n",
        "    (1,2,3),\n",
        "    (4,5,6),\n",
        "    (7,8,9)\n",
        ")\n",
        "print(tup)\n",
        "print(tup[1][2])"
      ],
      "metadata": {
        "colab": {
          "base_uri": "https://localhost:8080/"
        },
        "id": "xUIXWDmq66yH",
        "outputId": "7c78043f-4bc1-42d7-cdef-db457257cf4f"
      },
      "execution_count": 12,
      "outputs": [
        {
          "output_type": "stream",
          "name": "stdout",
          "text": [
            "((1, 2, 3), (4, 5, 6), (7, 8, 9))\n",
            "6\n"
          ]
        }
      ]
    },
    {
      "cell_type": "markdown",
      "source": [
        "Assignment 5: Tuple Concatenation\n",
        "Concatenate two tuples: (1, 2, 3) and (4, 5, 6). Print the resulting tuple."
      ],
      "metadata": {
        "id": "MInnaTuL7SYr"
      }
    },
    {
      "cell_type": "code",
      "source": [
        "t1=(1,2,3)\n",
        "t2=(4,5,6)\n",
        "new=t1+t2\n",
        "print(new)"
      ],
      "metadata": {
        "colab": {
          "base_uri": "https://localhost:8080/"
        },
        "id": "k6ODBXf49D62",
        "outputId": "df656ead-8fbc-490f-e2e9-661f5fc69289"
      },
      "execution_count": 14,
      "outputs": [
        {
          "output_type": "stream",
          "name": "stdout",
          "text": [
            "(1, 2, 3, 4, 5, 6)\n"
          ]
        }
      ]
    },
    {
      "cell_type": "markdown",
      "source": [
        "Assignment 6: Tuple Methods Create a tuple with duplicate elements and count the occurrences of an element. Find the index of the first occurrence of an element in the tuple."
      ],
      "metadata": {
        "id": "dsvUk4QQ-Ag5"
      }
    },
    {
      "cell_type": "code",
      "source": [
        "tup=(1,2,3,4,5,6,2,3)\n",
        "count={}\n",
        "for val in tup:\n",
        "    count[val]=count.get(val,0)+1\n",
        "print(count)\n",
        "ind=tup.index(4)\n",
        "print(ind)"
      ],
      "metadata": {
        "colab": {
          "base_uri": "https://localhost:8080/"
        },
        "id": "QEn2UiJl-DFj",
        "outputId": "ae80301e-925d-4074-ee4a-ec09224ff3fa"
      },
      "execution_count": 17,
      "outputs": [
        {
          "output_type": "stream",
          "name": "stdout",
          "text": [
            "{1: 1, 2: 2, 3: 2, 4: 1, 5: 1, 6: 1}\n",
            "3\n"
          ]
        }
      ]
    },
    {
      "cell_type": "markdown",
      "source": [
        "Assignment 7: Unpacking Tuples Create a tuple with 5 elements and unpack it into 5 variables. Print the variables."
      ],
      "metadata": {
        "id": "j3O8DiAt_Pm9"
      }
    },
    {
      "cell_type": "code",
      "source": [
        "tup=(i for i in range(1,6))\n",
        "a,b,c,d,e=tup\n",
        "print(a,b,c,d,e)"
      ],
      "metadata": {
        "colab": {
          "base_uri": "https://localhost:8080/"
        },
        "id": "KVBCM_1h_QB-",
        "outputId": "2ee9b39c-3de9-4830-fcc2-7c146cd72732"
      },
      "execution_count": 19,
      "outputs": [
        {
          "output_type": "stream",
          "name": "stdout",
          "text": [
            "1 2 3 4 5\n"
          ]
        }
      ]
    },
    {
      "cell_type": "markdown",
      "source": [
        "Assignment 8: Tuple Conversion Convert a list of the first 5 positive integers to a tuple. Print the tuple."
      ],
      "metadata": {
        "id": "KBho8JNA_y-5"
      }
    },
    {
      "cell_type": "code",
      "source": [
        "lis=[i for i in range(1,6)]\n",
        "tup=tuple(lis)\n",
        "print(tup)"
      ],
      "metadata": {
        "colab": {
          "base_uri": "https://localhost:8080/"
        },
        "id": "eaAWIE-u_oTe",
        "outputId": "c1eb8231-586f-4c9e-935e-aa99d4522366"
      },
      "execution_count": 20,
      "outputs": [
        {
          "output_type": "stream",
          "name": "stdout",
          "text": [
            "(1, 2, 3, 4, 5)\n"
          ]
        }
      ]
    },
    {
      "cell_type": "markdown",
      "source": [
        "Assignment 9: Tuple of Tuples Create a tuple containing 3 tuples, each with 3 elements. Print the tuple of tuples."
      ],
      "metadata": {
        "id": "O6HJZ1l8AA0y"
      }
    },
    {
      "cell_type": "code",
      "source": [
        "tup=(\n",
        "    (1,2,4),\n",
        "    (5,3,6),\n",
        "    (7,8,9)\n",
        ")\n",
        "print(tup)"
      ],
      "metadata": {
        "colab": {
          "base_uri": "https://localhost:8080/"
        },
        "id": "9dQIzp_YABUA",
        "outputId": "d81c36eb-382b-441e-aae9-784d8863a64c"
      },
      "execution_count": 21,
      "outputs": [
        {
          "output_type": "stream",
          "name": "stdout",
          "text": [
            "((1, 2, 4), (5, 3, 6), (7, 8, 9))\n"
          ]
        }
      ]
    },
    {
      "cell_type": "markdown",
      "source": [
        "Assignment 10: Tuple and List Create a tuple with the first 5 positive integers. Convert it to a list, append the number 6, and convert it back to a tuple. Print the resulting tuple."
      ],
      "metadata": {
        "id": "TEhOD2zyATU0"
      }
    },
    {
      "cell_type": "code",
      "source": [
        "tup=tuple(i for i in range(1,6))\n",
        "lis=list(tup)\n",
        "lis.append(6)\n",
        "tup1=tuple(lis)\n",
        "print(tup1)"
      ],
      "metadata": {
        "colab": {
          "base_uri": "https://localhost:8080/"
        },
        "id": "j4idaKLqAT5R",
        "outputId": "03e51d70-adfe-4800-92a9-3087c5af9202"
      },
      "execution_count": 26,
      "outputs": [
        {
          "output_type": "execute_result",
          "data": {
            "text/plain": [
              "(1, 2, 3, 4, 5, 6)"
            ]
          },
          "metadata": {},
          "execution_count": 26
        }
      ]
    },
    {
      "cell_type": "markdown",
      "source": [
        "Assignment 11: Tuple and String Create a tuple with the characters of a string. Join the tuple elements into a single string. Print the string."
      ],
      "metadata": {
        "id": "P72TwXELBNDr"
      }
    },
    {
      "cell_type": "code",
      "source": [
        "tup=(\"s\",\"i\",\"v\",\"a\")\n",
        "name=\"\".join(tup)\n",
        "\n",
        "\n",
        "print(name)"
      ],
      "metadata": {
        "colab": {
          "base_uri": "https://localhost:8080/"
        },
        "id": "tEZXCSuqBNlB",
        "outputId": "d5d25de4-61e4-4673-bf63-9914d3d2a218"
      },
      "execution_count": 31,
      "outputs": [
        {
          "output_type": "stream",
          "name": "stdout",
          "text": [
            "siva\n"
          ]
        }
      ]
    },
    {
      "cell_type": "markdown",
      "source": [
        "Assignment 12: Tuple and Dictionary Create a dictionary with tuple keys and integer values. Print the dictionary."
      ],
      "metadata": {
        "id": "XI6DDue2CtKq"
      }
    },
    {
      "cell_type": "code",
      "source": [
        "mdict = {\n",
        "    (1, 2): 10,\n",
        "    (3, 4): 20,\n",
        "    (5, 6): 30\n",
        "}\n",
        "print(mdict)"
      ],
      "metadata": {
        "colab": {
          "base_uri": "https://localhost:8080/"
        },
        "id": "0uaIRgl2DMAA",
        "outputId": "82760926-8099-48bc-fa23-297db327848d"
      },
      "execution_count": 39,
      "outputs": [
        {
          "output_type": "stream",
          "name": "stdout",
          "text": [
            "{(1, 2): 10, (3, 4): 20, (5, 6): 30}\n"
          ]
        }
      ]
    },
    {
      "cell_type": "markdown",
      "source": [
        "Assignment 13: Nested Tuple Iteration Create a nested tuple and iterate over the elements, printing each element."
      ],
      "metadata": {
        "id": "d7GgxahPEuOV"
      }
    },
    {
      "cell_type": "code",
      "source": [
        "nested_tuple = ((1, 2), (3, 4), (5, 6))\n",
        "\n",
        "for inner in nested_tuple:\n",
        "    for item in inner:\n",
        "        print(item, end=' ')\n"
      ],
      "metadata": {
        "colab": {
          "base_uri": "https://localhost:8080/"
        },
        "id": "-LxNsQsvEuki",
        "outputId": "310d637f-08cd-494e-b25a-485ace44545c"
      },
      "execution_count": 40,
      "outputs": [
        {
          "output_type": "stream",
          "name": "stdout",
          "text": [
            "1 2 3 4 5 6 "
          ]
        }
      ]
    },
    {
      "cell_type": "markdown",
      "source": [
        "Assignment 14: Tuple and Set Create a tuple with duplicate elements. Convert it to a set to remove duplicates and print the resulting set."
      ],
      "metadata": {
        "id": "3kk8dbcwE1vs"
      }
    },
    {
      "cell_type": "code",
      "source": [
        "dup_tuple = (1, 2, 2, 3, 4, 4, 5)\n",
        "\n",
        "unique_set = set(dup_tuple)\n",
        "\n",
        "print( unique_set)\n"
      ],
      "metadata": {
        "colab": {
          "base_uri": "https://localhost:8080/"
        },
        "id": "-zRTNorvE2F1",
        "outputId": "9bf81945-17e5-445f-a98a-8efc7d1ec63f"
      },
      "execution_count": 41,
      "outputs": [
        {
          "output_type": "stream",
          "name": "stdout",
          "text": [
            "{1, 2, 3, 4, 5}\n"
          ]
        }
      ]
    },
    {
      "cell_type": "markdown",
      "source": [
        "Assignment 15: Tuple Functions Write functions that take a tuple and return the minimum, maximum, and sum of the elements. Print the results for a sample tuple."
      ],
      "metadata": {
        "id": "2kVmIsQTFGce"
      }
    },
    {
      "cell_type": "code",
      "source": [
        "def get_min(tup):\n",
        "    return min(tup)\n",
        "\n",
        "def get_max(tup):\n",
        "    return max(tup)\n",
        "\n",
        "def get_sum(tup):\n",
        "    return sum(tup)\n",
        "\n",
        "# Sample tuple\n",
        "data = (10, 20, 5, 40, 15)\n",
        "\n",
        "# Print results\n",
        "print(\"Tuple:\", data)\n",
        "print(\"Minimum:\", get_min(data))\n",
        "print(\"Maximum:\", get_max(data))\n",
        "print(\"Sum:\", get_sum(data))\n"
      ],
      "metadata": {
        "colab": {
          "base_uri": "https://localhost:8080/"
        },
        "id": "gZFWZJFuFGxM",
        "outputId": "4df847ce-053b-4134-9fb3-172305896d2b"
      },
      "execution_count": 43,
      "outputs": [
        {
          "output_type": "stream",
          "name": "stdout",
          "text": [
            "Tuple: (10, 20, 5, 40, 15)\n",
            "Minimum: 5\n",
            "Maximum: 40\n",
            "Sum: 90\n"
          ]
        }
      ]
    }
  ]
}