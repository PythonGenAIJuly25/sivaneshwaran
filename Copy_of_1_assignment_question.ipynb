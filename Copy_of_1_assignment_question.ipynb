{
  "cells": [
    {
      "cell_type": "markdown",
      "metadata": {
        "id": "DvCHJiTWd0AM"
      },
      "source": [
        "# Python Basics\n",
        "## Topics Covered:\n",
        "- Syntax and Semantics\n",
        "- Variables and Data Types\n",
        "- Basic Operators (Arithmetic, Comparison, Logical)\n"
      ]
    },
    {
      "cell_type": "markdown",
      "metadata": {
        "id": "Q4jRs0TOd0AP"
      },
      "source": [
        "## 1. Syntax and Semantics\n",
        "\n",
        "**Question 1:** Write a Python program to print \"Hello, World!\"."
      ]
    },
    {
      "cell_type": "code",
      "execution_count": null,
      "metadata": {
        "id": "V2w-GSF_d0AQ",
        "colab": {
          "base_uri": "https://localhost:8080/"
        },
        "outputId": "eb1311f1-81be-4460-fa11-25e5d0ca9ecf"
      },
      "outputs": [
        {
          "output_type": "stream",
          "name": "stdout",
          "text": [
            "Hello, World\n"
          ]
        }
      ],
      "source": [
        "# Your code here\n",
        "print(\"Hello, World\")"
      ]
    },
    {
      "cell_type": "markdown",
      "metadata": {
        "id": "-YzRoynqd0AS"
      },
      "source": [
        "**Question 2:** Write a Python program that takes a user input and prints it."
      ]
    },
    {
      "cell_type": "code",
      "execution_count": null,
      "metadata": {
        "id": "SSxAPe2zd0AS",
        "colab": {
          "base_uri": "https://localhost:8080/"
        },
        "outputId": "cb4f0108-8f69-4dbe-e42f-a465b67caf5f"
      },
      "outputs": [
        {
          "output_type": "stream",
          "name": "stdout",
          "text": [
            "entersiva\n",
            "siva\n"
          ]
        }
      ],
      "source": [
        "# Your code here\n",
        "name=input(\"enter:\")\n",
        "print(name)\n"
      ]
    },
    {
      "cell_type": "markdown",
      "metadata": {
        "id": "zdyFe6Lcd0AT"
      },
      "source": [
        "**Question 3:** Write a Python program to check if a number is positive, negative, or zero."
      ]
    },
    {
      "cell_type": "code",
      "execution_count": null,
      "metadata": {
        "id": "CENsdW1_d0AT",
        "colab": {
          "base_uri": "https://localhost:8080/"
        },
        "outputId": "63732476-d4ce-4bad-b088-f6ef3ae716bf"
      },
      "outputs": [
        {
          "output_type": "stream",
          "name": "stdout",
          "text": [
            "enter:-12\n",
            "negative\n"
          ]
        }
      ],
      "source": [
        "# Your code here\n",
        "num=int(input(\"enter:\"))\n",
        "if num >0 :\n",
        "    print(\"positive\")\n",
        "elif num<0:\n",
        "    print(\"negative\")\n",
        "else:\n",
        "    print(\"zero\")"
      ]
    },
    {
      "cell_type": "markdown",
      "metadata": {
        "id": "DmhKZuH_d0AU"
      },
      "source": [
        "**Question 4:** Write a Python program to find the largest of three numbers."
      ]
    },
    {
      "cell_type": "code",
      "execution_count": null,
      "metadata": {
        "id": "mdVpAp3md0AU",
        "colab": {
          "base_uri": "https://localhost:8080/"
        },
        "outputId": "957e28bc-37f9-4e63-eb90-59a6262f9430"
      },
      "outputs": [
        {
          "output_type": "stream",
          "name": "stdout",
          "text": [
            "Enter first number: 23\n",
            "Enter second number: 444\n",
            "Enter third number: 1\n",
            "The largest number is: 444.0\n"
          ]
        }
      ],
      "source": [
        "# Your code here\n",
        "a = float(input(\"Enter first number: \"))\n",
        "b = float(input(\"Enter second number: \"))\n",
        "c = float(input(\"Enter third number: \"))\n",
        "\n",
        "if a >= b and a >= c:\n",
        "    largest = a\n",
        "elif b >= a and b >= c:\n",
        "    largest = b\n",
        "else:\n",
        "    largest = c\n",
        "\n",
        "print(\"The largest number is:\", largest)\n",
        "\n",
        "\n"
      ]
    },
    {
      "cell_type": "markdown",
      "metadata": {
        "id": "DocsflzRd0AU"
      },
      "source": [
        "**Question 5:** Write a Python program to calculate the factorial of a number."
      ]
    },
    {
      "cell_type": "code",
      "execution_count": null,
      "metadata": {
        "id": "Rqq24C-Wd0AV",
        "colab": {
          "base_uri": "https://localhost:8080/"
        },
        "outputId": "4d17d9ad-9761-464b-9203-52ebf5a0735f"
      },
      "outputs": [
        {
          "output_type": "stream",
          "name": "stdout",
          "text": [
            "Enter a number: 5\n",
            "The factorial of 5 is 120\n"
          ]
        }
      ],
      "source": [
        "# Your code here\n",
        "num = int(input(\"Enter a number: \"))\n",
        "factorial = 1\n",
        "\n",
        "if num < 0:\n",
        "    print(\"Factorial does not exist for negative numbers.\")\n",
        "elif num == 0:\n",
        "    print(\"The factorial of 0 is 1.\")\n",
        "else:\n",
        "    for i in range(1, num + 1):\n",
        "        factorial *= i\n",
        "    print(\"The factorial of\", num, \"is\", factorial)\n"
      ]
    },
    {
      "cell_type": "markdown",
      "metadata": {
        "id": "hDGnzdv5d0AV"
      },
      "source": [
        "## 2. Variables and Data Types\n",
        "\n",
        "**Question 6:** Create variables of different data types: integer, float, string, and boolean. Print their values and types."
      ]
    },
    {
      "cell_type": "code",
      "execution_count": null,
      "metadata": {
        "id": "PSVrc2BQd0AW",
        "colab": {
          "base_uri": "https://localhost:8080/"
        },
        "outputId": "d464cee6-3831-4963-cdd5-997335e751ca"
      },
      "outputs": [
        {
          "output_type": "stream",
          "name": "stdout",
          "text": [
            "123 12.9 string True\n",
            "<class 'int'> <class 'float'> <class 'str'> <class 'bool'>\n"
          ]
        }
      ],
      "source": [
        "# Your code here\n",
        "num=int(123)\n",
        "floa=float(12.9)\n",
        "string='string'\n",
        "boolean=True\n",
        "print(num,floa,string,boolean)\n",
        "print(type(num),type(floa),type(string),type(boolean))"
      ]
    },
    {
      "cell_type": "markdown",
      "metadata": {
        "id": "jK7zrFO6d0AW"
      },
      "source": [
        "**Question 7:** Write a Python program to swap the values of two variables."
      ]
    },
    {
      "cell_type": "code",
      "execution_count": null,
      "metadata": {
        "id": "o-0GZ1Bld0AW",
        "colab": {
          "base_uri": "https://localhost:8080/"
        },
        "outputId": "9b5a0c18-cbb8-4c8e-bfa7-0974fc1a71fe"
      },
      "outputs": [
        {
          "output_type": "stream",
          "name": "stdout",
          "text": [
            "88 34\n"
          ]
        }
      ],
      "source": [
        "# Your code here\n",
        "num1=34\n",
        "num2=88\n",
        "num1,num2=num2,num1\n",
        "print(num1,num2)"
      ]
    },
    {
      "cell_type": "markdown",
      "metadata": {
        "id": "LUdo3Zfad0AX"
      },
      "source": [
        "**Question 8:** Write a Python program to convert Celsius to Fahrenheit."
      ]
    },
    {
      "cell_type": "code",
      "execution_count": null,
      "metadata": {
        "id": "72-zhQxMd0AX",
        "colab": {
          "base_uri": "https://localhost:8080/"
        },
        "outputId": "138cd4f8-8902-4833-ece6-9abd79495485"
      },
      "outputs": [
        {
          "output_type": "stream",
          "name": "stdout",
          "text": [
            "Enter temperature in Celsius: 38\n",
            "Temperature in Fahrenheit: 100.4\n"
          ]
        }
      ],
      "source": [
        "# Your code here\n",
        "celsius = float(input(\"Enter temperature in Celsius: \"))\n",
        "\n",
        "fahrenheit = (celsius * 9/5) + 32\n",
        "\n",
        "print(\"Temperature in Fahrenheit:\", fahrenheit)\n",
        "\n"
      ]
    },
    {
      "cell_type": "markdown",
      "metadata": {
        "id": "GD-bJA0Wd0AX"
      },
      "source": [
        "**Question 9:** Write a Python program to concatenate two strings."
      ]
    },
    {
      "cell_type": "code",
      "execution_count": null,
      "metadata": {
        "id": "5ojTKzPdd0AY",
        "colab": {
          "base_uri": "https://localhost:8080/"
        },
        "outputId": "23d777bd-2708-4d50-b84d-40636c2acd63"
      },
      "outputs": [
        {
          "output_type": "stream",
          "name": "stdout",
          "text": [
            "sivanesh\n"
          ]
        }
      ],
      "source": [
        "# Your code here\n",
        "st1='siva'\n",
        "st2='nesh'\n",
        "print(st1+st2)"
      ]
    },
    {
      "cell_type": "markdown",
      "metadata": {
        "id": "cNorOS-zd0AY"
      },
      "source": [
        "**Question 10:** Write a Python program to check if a variable is of a specific data type."
      ]
    },
    {
      "cell_type": "code",
      "execution_count": null,
      "metadata": {
        "id": "dsgNkVs-d0AY",
        "colab": {
          "base_uri": "https://localhost:8080/"
        },
        "outputId": "e31e87c6-2f9a-43d5-8098-ded6b3256370"
      },
      "outputs": [
        {
          "output_type": "stream",
          "name": "stdout",
          "text": [
            "x is an integer\n"
          ]
        }
      ],
      "source": [
        "# Your code here\n",
        "\n",
        "x = int(35)\n",
        "\n",
        "if type(x) == int:\n",
        "    print(\"x is an integer\")\n",
        "elif type(x) == float:\n",
        "    print(\"x is a float\")\n",
        "elif type(x) == str:\n",
        "    print(\"x is a string\")\n",
        "elif type(x) == list:\n",
        "    print(\"x is a list\")\n",
        "elif type(x) == bool:\n",
        "    print(\"x is a boolean\")\n",
        "else:\n",
        "    print(\"x is of some other type\")\n"
      ]
    },
    {
      "cell_type": "markdown",
      "metadata": {
        "id": "Vr0hvUhSd0AZ"
      },
      "source": [
        "## 3. Basic Operators (Arithmetic, Comparison, Logical)\n",
        "\n",
        "**Question 11:** Write a Python program to perform arithmetic operations: addition, subtraction, multiplication, and division."
      ]
    },
    {
      "cell_type": "code",
      "execution_count": null,
      "metadata": {
        "id": "cFluJ12Cd0AZ",
        "colab": {
          "base_uri": "https://localhost:8080/"
        },
        "outputId": "f73f0c7c-2147-4c94-9714-775d04837b08"
      },
      "outputs": [
        {
          "output_type": "stream",
          "name": "stdout",
          "text": [
            "15\n",
            "-5\n",
            "50\n",
            "0.5\n"
          ]
        }
      ],
      "source": [
        "# Your code here\n",
        "a=5\n",
        "b=10\n",
        "print(a+b)\n",
        "print(a-b)\n",
        "print(a*b)\n",
        "print(a/b)\n",
        "\n"
      ]
    },
    {
      "cell_type": "markdown",
      "metadata": {
        "id": "GqqJmEixd0AZ"
      },
      "source": [
        "**Question 12:** Write a Python program to demonstrate comparison operators: equal to, not equal to, greater than, less than."
      ]
    },
    {
      "cell_type": "code",
      "execution_count": null,
      "metadata": {
        "id": "W4yrBgazd0AZ",
        "colab": {
          "base_uri": "https://localhost:8080/"
        },
        "outputId": "391cd713-802c-46f0-d8b2-1be777d82225"
      },
      "outputs": [
        {
          "output_type": "stream",
          "name": "stdout",
          "text": [
            "value is == False\n",
            "value is != True\n",
            "value is <= False\n",
            "value is >= True\n"
          ]
        }
      ],
      "source": [
        "# Your code here\n",
        "a=14\n",
        "b=11\n",
        "print(f\"value is == {a==b}\")\n",
        "print(f\"value is != {a!=b}\")\n",
        "print(f\"value is <= {a<=b}\")\n",
        "print(f\"value is >= {a>=b}\")"
      ]
    },
    {
      "cell_type": "markdown",
      "metadata": {
        "id": "R7tKUbbbd0Aa"
      },
      "source": [
        "**Question 13:** Write a Python program to demonstrate logical operators: and, or, not."
      ]
    },
    {
      "cell_type": "code",
      "execution_count": null,
      "metadata": {
        "id": "64DhsCojd0Aa",
        "colab": {
          "base_uri": "https://localhost:8080/"
        },
        "outputId": "90231650-de14-4cdf-8ea7-ae4da590eb82"
      },
      "outputs": [
        {
          "output_type": "stream",
          "name": "stdout",
          "text": [
            "False\n",
            "True\n",
            "True\n",
            "False\n"
          ]
        }
      ],
      "source": [
        "# Your code here\n",
        "a=True\n",
        "b=False\n",
        "print(a and b)\n",
        "print(a or b)\n",
        "print(not b)\n",
        "print(not a)"
      ]
    },
    {
      "cell_type": "markdown",
      "metadata": {
        "id": "_cLZAjpzd0Aa"
      },
      "source": [
        "**Question 14:** Write a Python program to calculate the square of a number."
      ]
    },
    {
      "cell_type": "code",
      "execution_count": null,
      "metadata": {
        "id": "v_t7odpzd0Ab",
        "colab": {
          "base_uri": "https://localhost:8080/"
        },
        "outputId": "4c0a8ff1-adeb-4afb-a0c2-f9b664d4b9e3"
      },
      "outputs": [
        {
          "output_type": "stream",
          "name": "stdout",
          "text": [
            "12649337\n"
          ]
        }
      ],
      "source": [
        "# Your code here\n",
        "num=233\n",
        "n=3\n",
        "print(num**n)"
      ]
    },
    {
      "cell_type": "markdown",
      "metadata": {
        "id": "kK9bY_wzd0Ab"
      },
      "source": [
        "**Question 15:** Write a Python program to check if a number is even or odd."
      ]
    },
    {
      "cell_type": "code",
      "execution_count": null,
      "metadata": {
        "id": "ZZXg4WyGd0Ab",
        "colab": {
          "base_uri": "https://localhost:8080/"
        },
        "outputId": "e3c91847-cecb-4bb8-cecb-a6dad5c8af65"
      },
      "outputs": [
        {
          "output_type": "stream",
          "name": "stdout",
          "text": [
            "odd\n"
          ]
        }
      ],
      "source": [
        "# Your code here\n",
        "num=37\n",
        "if num%2==0:\n",
        "    print(\"even\")\n",
        "else:\n",
        "    print(\"odd\")"
      ]
    },
    {
      "cell_type": "markdown",
      "metadata": {
        "id": "37pu-gqxd0Ab"
      },
      "source": [
        "**Question 16:** Write a Python program to find the sum of the first n natural numbers."
      ]
    },
    {
      "cell_type": "code",
      "execution_count": null,
      "metadata": {
        "id": "tYAKILJFd0Ac",
        "colab": {
          "base_uri": "https://localhost:8080/"
        },
        "outputId": "ffb62758-4bdf-4909-e0b4-bd4ad2c5c87a"
      },
      "outputs": [
        {
          "output_type": "stream",
          "name": "stdout",
          "text": [
            "10\n"
          ]
        }
      ],
      "source": [
        "# Your code here\n",
        "num=5\n",
        "val=0\n",
        "for i in range(num):\n",
        "    val+=i\n",
        "print(val)"
      ]
    },
    {
      "cell_type": "markdown",
      "metadata": {
        "id": "gtIs1sDRd0Ac"
      },
      "source": [
        "**Question 17:** Write a Python program to check if a year is a leap year."
      ]
    },
    {
      "cell_type": "code",
      "execution_count": null,
      "metadata": {
        "id": "XPQMBj45d0Ac",
        "colab": {
          "base_uri": "https://localhost:8080/"
        },
        "outputId": "545a9ed7-0c27-48b5-d845-50a060d18601"
      },
      "outputs": [
        {
          "output_type": "stream",
          "name": "stdout",
          "text": [
            "not a leap year\n"
          ]
        }
      ],
      "source": [
        "# Your code here\n",
        "year=1999\n",
        "if (year % 4 == 0 and year % 100 != 0) or (year % 400 == 0):\n",
        "    print(\"is a leap year\")\n",
        "else:\n",
        "    print(\"not a leap year\")"
      ]
    },
    {
      "cell_type": "markdown",
      "metadata": {
        "id": "m51URZ7cd0Ad"
      },
      "source": [
        "**Question 18:** Write a Python program to reverse a string."
      ]
    },
    {
      "cell_type": "code",
      "execution_count": null,
      "metadata": {
        "id": "0LRZd-gwd0Ad",
        "colab": {
          "base_uri": "https://localhost:8080/"
        },
        "outputId": "e038efa6-d884-4037-f1b1-44dd5608a516"
      },
      "outputs": [
        {
          "output_type": "stream",
          "name": "stdout",
          "text": [
            "hsenavis\n"
          ]
        }
      ],
      "source": [
        "# Your code here\n",
        "st='sivanesh'\n",
        "rev=st[::-1]\n",
        "print(rev)"
      ]
    },
    {
      "cell_type": "markdown",
      "metadata": {
        "id": "KgmvKxC0d0Ad"
      },
      "source": [
        "**Question 19:** Write a Python program to check if a string is a palindrome."
      ]
    },
    {
      "cell_type": "code",
      "execution_count": null,
      "metadata": {
        "id": "vqKjrnFcd0Ad",
        "colab": {
          "base_uri": "https://localhost:8080/"
        },
        "outputId": "380a9ac8-6823-4ed0-d1eb-face55c81389"
      },
      "outputs": [
        {
          "output_type": "stream",
          "name": "stdout",
          "text": [
            "is palindrome\n"
          ]
        }
      ],
      "source": [
        "# Your code here\n",
        "st='madam'\n",
        "rev=st[::-1]\n",
        "if st==rev:\n",
        "    print(\"is palindrome\")\n",
        "else:\n",
        "    print(\"not an palindrome\")"
      ]
    },
    {
      "cell_type": "markdown",
      "metadata": {
        "id": "9gJ1pEz4d0Al"
      },
      "source": [
        "**Question 20:** Write a Python program to sort a list of numbers in ascending order."
      ]
    },
    {
      "cell_type": "code",
      "execution_count": null,
      "metadata": {
        "id": "0zOGufnzd0Am",
        "colab": {
          "base_uri": "https://localhost:8080/"
        },
        "outputId": "1095ce61-acc2-4cfd-c590-a25dea4bae6f"
      },
      "outputs": [
        {
          "output_type": "stream",
          "name": "stdout",
          "text": [
            "Sorted list  [1, 2, 3, 5, 9]\n"
          ]
        }
      ],
      "source": [
        "# Your code here\n",
        "numbers = [5, 2, 9, 1, 3]\n",
        "\n",
        "n = len(numbers)\n",
        "for i in range(n):\n",
        "    for j in range(0, n - i - 1):\n",
        "        if numbers[j] > numbers[j + 1]:\n",
        "            numbers[j], numbers[j + 1] = numbers[j + 1], numbers[j]\n",
        "\n",
        "print(\"Sorted list \", numbers)"
      ]
    }
  ],
  "metadata": {
    "kernelspec": {
      "display_name": "Python 3",
      "language": "python",
      "name": "python3"
    },
    "language_info": {
      "codemirror_mode": {
        "name": "ipython",
        "version": 3
      },
      "file_extension": ".py",
      "mimetype": "text/x-python",
      "name": "python",
      "nbconvert_exporter": "python",
      "pygments_lexer": "ipython3",
      "version": "3.8.5"
    },
    "colab": {
      "provenance": []
    }
  },
  "nbformat": 4,
  "nbformat_minor": 0
}